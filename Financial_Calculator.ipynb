{
  "nbformat": 4,
  "nbformat_minor": 0,
  "metadata": {
    "colab": {
      "provenance": [],
      "collapsed_sections": [
        "szp5flp1fA8-",
        "KDloBuvnHQTS",
        "r1AM-AcqkbyF",
        "8wXbGsoYkm60",
        "tBxuJtHck2Oo",
        "s3z_zaNWlet8",
        "lnP9BOpPlhdK",
        "MlRfYVIylkQf",
        "NGH1FcttllvS",
        "Sx0kwIdalmmY",
        "S-DVSzwDvKvE",
        "H6LTAPYplxvi",
        "iaEBltZXln-Q",
        "8vdTo36Pl0yv",
        "U_7bv7aG4UJe",
        "B7DOz9nh4XAb",
        "cqvLtj7t4VMN",
        "GsLj1NhZl1ya",
        "d7Lc9KfMYU8Y",
        "VkD30ljxlyw9",
        "bJzxcKIfz8Qt",
        "8iWUAktvPLYp",
        "rzaQj8dEOfzb"
      ],
      "toc_visible": true,
      "include_colab_link": true
    },
    "kernelspec": {
      "name": "python3",
      "display_name": "Python 3"
    },
    "language_info": {
      "name": "python"
    },
    "widgets": {
      "application/vnd.jupyter.widget-state+json": {
        "d81aabe85f5347ca969cbe834f51fb64": {
          "model_module": "@jupyter-widgets/controls",
          "model_name": "VBoxModel",
          "model_module_version": "1.5.0",
          "state": {
            "_dom_classes": [
              "widget-interact"
            ],
            "_model_module": "@jupyter-widgets/controls",
            "_model_module_version": "1.5.0",
            "_model_name": "VBoxModel",
            "_view_count": null,
            "_view_module": "@jupyter-widgets/controls",
            "_view_module_version": "1.5.0",
            "_view_name": "VBoxView",
            "box_style": "",
            "children": [
              "IPY_MODEL_4f28d6d4e155446799f38676e573247f",
              "IPY_MODEL_3074833bc3ab4689945b6c33afe617e7",
              "IPY_MODEL_ca01267220694dcf96b1a324e5b3ab75",
              "IPY_MODEL_376c64d004e34c418f44218f3dad7ab9"
            ],
            "layout": "IPY_MODEL_11ee47340c2f4974a5264155438a19ba"
          }
        },
        "4f28d6d4e155446799f38676e573247f": {
          "model_module": "@jupyter-widgets/controls",
          "model_name": "IntSliderModel",
          "model_module_version": "1.5.0",
          "state": {
            "_dom_classes": [],
            "_model_module": "@jupyter-widgets/controls",
            "_model_module_version": "1.5.0",
            "_model_name": "IntSliderModel",
            "_view_count": null,
            "_view_module": "@jupyter-widgets/controls",
            "_view_module_version": "1.5.0",
            "_view_name": "IntSliderView",
            "continuous_update": true,
            "description": "a",
            "description_tooltip": null,
            "disabled": false,
            "layout": "IPY_MODEL_afc6947da4b44e818542edea43be7681",
            "max": 9,
            "min": -9,
            "orientation": "horizontal",
            "readout": true,
            "readout_format": "d",
            "step": 1,
            "style": "IPY_MODEL_6a0434dcd9684e938729f70f8224effb",
            "value": -4
          }
        },
        "3074833bc3ab4689945b6c33afe617e7": {
          "model_module": "@jupyter-widgets/controls",
          "model_name": "IntSliderModel",
          "model_module_version": "1.5.0",
          "state": {
            "_dom_classes": [],
            "_model_module": "@jupyter-widgets/controls",
            "_model_module_version": "1.5.0",
            "_model_name": "IntSliderModel",
            "_view_count": null,
            "_view_module": "@jupyter-widgets/controls",
            "_view_module_version": "1.5.0",
            "_view_name": "IntSliderView",
            "continuous_update": true,
            "description": "b",
            "description_tooltip": null,
            "disabled": false,
            "layout": "IPY_MODEL_e77125c7ed9e46ee87eee570763394d0",
            "max": 9,
            "min": -9,
            "orientation": "horizontal",
            "readout": true,
            "readout_format": "d",
            "step": 1,
            "style": "IPY_MODEL_e71e484aee7d49e98e6b09f4961165a2",
            "value": 0
          }
        },
        "ca01267220694dcf96b1a324e5b3ab75": {
          "model_module": "@jupyter-widgets/controls",
          "model_name": "IntSliderModel",
          "model_module_version": "1.5.0",
          "state": {
            "_dom_classes": [],
            "_model_module": "@jupyter-widgets/controls",
            "_model_module_version": "1.5.0",
            "_model_name": "IntSliderModel",
            "_view_count": null,
            "_view_module": "@jupyter-widgets/controls",
            "_view_module_version": "1.5.0",
            "_view_name": "IntSliderView",
            "continuous_update": true,
            "description": "c",
            "description_tooltip": null,
            "disabled": false,
            "layout": "IPY_MODEL_c975c968f6a246479f758fba18394d92",
            "max": 9,
            "min": -9,
            "orientation": "horizontal",
            "readout": true,
            "readout_format": "d",
            "step": 1,
            "style": "IPY_MODEL_6ccf3d65ede342319420cb91772e73b0",
            "value": 0
          }
        },
        "376c64d004e34c418f44218f3dad7ab9": {
          "model_module": "@jupyter-widgets/output",
          "model_name": "OutputModel",
          "model_module_version": "1.0.0",
          "state": {
            "_dom_classes": [],
            "_model_module": "@jupyter-widgets/output",
            "_model_module_version": "1.0.0",
            "_model_name": "OutputModel",
            "_view_count": null,
            "_view_module": "@jupyter-widgets/output",
            "_view_module_version": "1.0.0",
            "_view_name": "OutputView",
            "layout": "IPY_MODEL_776b71bcad104f1e8a3e5618d3fc0c1a",
            "msg_id": "",
            "outputs": [
              {
                "output_type": "display_data",
                "data": {
                  "text/plain": "<Figure size 640x480 with 1 Axes>",
                  "image/png": "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\n"
                },
                "metadata": {}
              }
            ]
          }
        },
        "11ee47340c2f4974a5264155438a19ba": {
          "model_module": "@jupyter-widgets/base",
          "model_name": "LayoutModel",
          "model_module_version": "1.2.0",
          "state": {
            "_model_module": "@jupyter-widgets/base",
            "_model_module_version": "1.2.0",
            "_model_name": "LayoutModel",
            "_view_count": null,
            "_view_module": "@jupyter-widgets/base",
            "_view_module_version": "1.2.0",
            "_view_name": "LayoutView",
            "align_content": null,
            "align_items": null,
            "align_self": null,
            "border": null,
            "bottom": null,
            "display": null,
            "flex": null,
            "flex_flow": null,
            "grid_area": null,
            "grid_auto_columns": null,
            "grid_auto_flow": null,
            "grid_auto_rows": null,
            "grid_column": null,
            "grid_gap": null,
            "grid_row": null,
            "grid_template_areas": null,
            "grid_template_columns": null,
            "grid_template_rows": null,
            "height": null,
            "justify_content": null,
            "justify_items": null,
            "left": null,
            "margin": null,
            "max_height": null,
            "max_width": null,
            "min_height": null,
            "min_width": null,
            "object_fit": null,
            "object_position": null,
            "order": null,
            "overflow": null,
            "overflow_x": null,
            "overflow_y": null,
            "padding": null,
            "right": null,
            "top": null,
            "visibility": null,
            "width": null
          }
        },
        "afc6947da4b44e818542edea43be7681": {
          "model_module": "@jupyter-widgets/base",
          "model_name": "LayoutModel",
          "model_module_version": "1.2.0",
          "state": {
            "_model_module": "@jupyter-widgets/base",
            "_model_module_version": "1.2.0",
            "_model_name": "LayoutModel",
            "_view_count": null,
            "_view_module": "@jupyter-widgets/base",
            "_view_module_version": "1.2.0",
            "_view_name": "LayoutView",
            "align_content": null,
            "align_items": null,
            "align_self": null,
            "border": null,
            "bottom": null,
            "display": null,
            "flex": null,
            "flex_flow": null,
            "grid_area": null,
            "grid_auto_columns": null,
            "grid_auto_flow": null,
            "grid_auto_rows": null,
            "grid_column": null,
            "grid_gap": null,
            "grid_row": null,
            "grid_template_areas": null,
            "grid_template_columns": null,
            "grid_template_rows": null,
            "height": null,
            "justify_content": null,
            "justify_items": null,
            "left": null,
            "margin": null,
            "max_height": null,
            "max_width": null,
            "min_height": null,
            "min_width": null,
            "object_fit": null,
            "object_position": null,
            "order": null,
            "overflow": null,
            "overflow_x": null,
            "overflow_y": null,
            "padding": null,
            "right": null,
            "top": null,
            "visibility": null,
            "width": null
          }
        },
        "6a0434dcd9684e938729f70f8224effb": {
          "model_module": "@jupyter-widgets/controls",
          "model_name": "SliderStyleModel",
          "model_module_version": "1.5.0",
          "state": {
            "_model_module": "@jupyter-widgets/controls",
            "_model_module_version": "1.5.0",
            "_model_name": "SliderStyleModel",
            "_view_count": null,
            "_view_module": "@jupyter-widgets/base",
            "_view_module_version": "1.2.0",
            "_view_name": "StyleView",
            "description_width": "",
            "handle_color": null
          }
        },
        "e77125c7ed9e46ee87eee570763394d0": {
          "model_module": "@jupyter-widgets/base",
          "model_name": "LayoutModel",
          "model_module_version": "1.2.0",
          "state": {
            "_model_module": "@jupyter-widgets/base",
            "_model_module_version": "1.2.0",
            "_model_name": "LayoutModel",
            "_view_count": null,
            "_view_module": "@jupyter-widgets/base",
            "_view_module_version": "1.2.0",
            "_view_name": "LayoutView",
            "align_content": null,
            "align_items": null,
            "align_self": null,
            "border": null,
            "bottom": null,
            "display": null,
            "flex": null,
            "flex_flow": null,
            "grid_area": null,
            "grid_auto_columns": null,
            "grid_auto_flow": null,
            "grid_auto_rows": null,
            "grid_column": null,
            "grid_gap": null,
            "grid_row": null,
            "grid_template_areas": null,
            "grid_template_columns": null,
            "grid_template_rows": null,
            "height": null,
            "justify_content": null,
            "justify_items": null,
            "left": null,
            "margin": null,
            "max_height": null,
            "max_width": null,
            "min_height": null,
            "min_width": null,
            "object_fit": null,
            "object_position": null,
            "order": null,
            "overflow": null,
            "overflow_x": null,
            "overflow_y": null,
            "padding": null,
            "right": null,
            "top": null,
            "visibility": null,
            "width": null
          }
        },
        "e71e484aee7d49e98e6b09f4961165a2": {
          "model_module": "@jupyter-widgets/controls",
          "model_name": "SliderStyleModel",
          "model_module_version": "1.5.0",
          "state": {
            "_model_module": "@jupyter-widgets/controls",
            "_model_module_version": "1.5.0",
            "_model_name": "SliderStyleModel",
            "_view_count": null,
            "_view_module": "@jupyter-widgets/base",
            "_view_module_version": "1.2.0",
            "_view_name": "StyleView",
            "description_width": "",
            "handle_color": null
          }
        },
        "c975c968f6a246479f758fba18394d92": {
          "model_module": "@jupyter-widgets/base",
          "model_name": "LayoutModel",
          "model_module_version": "1.2.0",
          "state": {
            "_model_module": "@jupyter-widgets/base",
            "_model_module_version": "1.2.0",
            "_model_name": "LayoutModel",
            "_view_count": null,
            "_view_module": "@jupyter-widgets/base",
            "_view_module_version": "1.2.0",
            "_view_name": "LayoutView",
            "align_content": null,
            "align_items": null,
            "align_self": null,
            "border": null,
            "bottom": null,
            "display": null,
            "flex": null,
            "flex_flow": null,
            "grid_area": null,
            "grid_auto_columns": null,
            "grid_auto_flow": null,
            "grid_auto_rows": null,
            "grid_column": null,
            "grid_gap": null,
            "grid_row": null,
            "grid_template_areas": null,
            "grid_template_columns": null,
            "grid_template_rows": null,
            "height": null,
            "justify_content": null,
            "justify_items": null,
            "left": null,
            "margin": null,
            "max_height": null,
            "max_width": null,
            "min_height": null,
            "min_width": null,
            "object_fit": null,
            "object_position": null,
            "order": null,
            "overflow": null,
            "overflow_x": null,
            "overflow_y": null,
            "padding": null,
            "right": null,
            "top": null,
            "visibility": null,
            "width": null
          }
        },
        "6ccf3d65ede342319420cb91772e73b0": {
          "model_module": "@jupyter-widgets/controls",
          "model_name": "SliderStyleModel",
          "model_module_version": "1.5.0",
          "state": {
            "_model_module": "@jupyter-widgets/controls",
            "_model_module_version": "1.5.0",
            "_model_name": "SliderStyleModel",
            "_view_count": null,
            "_view_module": "@jupyter-widgets/base",
            "_view_module_version": "1.2.0",
            "_view_name": "StyleView",
            "description_width": "",
            "handle_color": null
          }
        },
        "776b71bcad104f1e8a3e5618d3fc0c1a": {
          "model_module": "@jupyter-widgets/base",
          "model_name": "LayoutModel",
          "model_module_version": "1.2.0",
          "state": {
            "_model_module": "@jupyter-widgets/base",
            "_model_module_version": "1.2.0",
            "_model_name": "LayoutModel",
            "_view_count": null,
            "_view_module": "@jupyter-widgets/base",
            "_view_module_version": "1.2.0",
            "_view_name": "LayoutView",
            "align_content": null,
            "align_items": null,
            "align_self": null,
            "border": null,
            "bottom": null,
            "display": null,
            "flex": null,
            "flex_flow": null,
            "grid_area": null,
            "grid_auto_columns": null,
            "grid_auto_flow": null,
            "grid_auto_rows": null,
            "grid_column": null,
            "grid_gap": null,
            "grid_row": null,
            "grid_template_areas": null,
            "grid_template_columns": null,
            "grid_template_rows": null,
            "height": null,
            "justify_content": null,
            "justify_items": null,
            "left": null,
            "margin": null,
            "max_height": null,
            "max_width": null,
            "min_height": null,
            "min_width": null,
            "object_fit": null,
            "object_position": null,
            "order": null,
            "overflow": null,
            "overflow_x": null,
            "overflow_y": null,
            "padding": null,
            "right": null,
            "top": null,
            "visibility": null,
            "width": null
          }
        },
        "11227c3e468c41fab474d4d5bbfffbc1": {
          "model_module": "@jupyter-widgets/controls",
          "model_name": "VBoxModel",
          "model_module_version": "1.5.0",
          "state": {
            "_dom_classes": [
              "widget-interact"
            ],
            "_model_module": "@jupyter-widgets/controls",
            "_model_module_version": "1.5.0",
            "_model_name": "VBoxModel",
            "_view_count": null,
            "_view_module": "@jupyter-widgets/controls",
            "_view_module_version": "1.5.0",
            "_view_name": "VBoxView",
            "box_style": "",
            "children": [
              "IPY_MODEL_eb2ee02f35e943888fe5fd51bf6f56f9",
              "IPY_MODEL_509f97c7d9d143bea9136d3cc0ee6dea",
              "IPY_MODEL_c947b272f8124f59899e1f6ef039a5b7"
            ],
            "layout": "IPY_MODEL_e2412fefd5e84d4cbbd164d677cc9821"
          }
        },
        "eb2ee02f35e943888fe5fd51bf6f56f9": {
          "model_module": "@jupyter-widgets/controls",
          "model_name": "IntSliderModel",
          "model_module_version": "1.5.0",
          "state": {
            "_dom_classes": [],
            "_model_module": "@jupyter-widgets/controls",
            "_model_module_version": "1.5.0",
            "_model_name": "IntSliderModel",
            "_view_count": null,
            "_view_module": "@jupyter-widgets/controls",
            "_view_module_version": "1.5.0",
            "_view_name": "IntSliderView",
            "continuous_update": true,
            "description": "a",
            "description_tooltip": null,
            "disabled": false,
            "layout": "IPY_MODEL_3a61eb559a0c44a6b841d977320e426b",
            "max": 1,
            "min": -9,
            "orientation": "horizontal",
            "readout": true,
            "readout_format": "d",
            "step": 1,
            "style": "IPY_MODEL_1945a1984b3c4e4da6fdde222918dda5",
            "value": -4
          }
        },
        "509f97c7d9d143bea9136d3cc0ee6dea": {
          "model_module": "@jupyter-widgets/controls",
          "model_name": "IntSliderModel",
          "model_module_version": "1.5.0",
          "state": {
            "_dom_classes": [],
            "_model_module": "@jupyter-widgets/controls",
            "_model_module_version": "1.5.0",
            "_model_name": "IntSliderModel",
            "_view_count": null,
            "_view_module": "@jupyter-widgets/controls",
            "_view_module_version": "1.5.0",
            "_view_name": "IntSliderView",
            "continuous_update": true,
            "description": "b",
            "description_tooltip": null,
            "disabled": false,
            "layout": "IPY_MODEL_853485c687d74ffda0262c1cdecd9c95",
            "max": 9,
            "min": 1,
            "orientation": "horizontal",
            "readout": true,
            "readout_format": "d",
            "step": 1,
            "style": "IPY_MODEL_fdd54eac6c8e43fda8d03603c001bc73",
            "value": 5
          }
        },
        "c947b272f8124f59899e1f6ef039a5b7": {
          "model_module": "@jupyter-widgets/output",
          "model_name": "OutputModel",
          "model_module_version": "1.0.0",
          "state": {
            "_dom_classes": [],
            "_model_module": "@jupyter-widgets/output",
            "_model_module_version": "1.0.0",
            "_model_name": "OutputModel",
            "_view_count": null,
            "_view_module": "@jupyter-widgets/output",
            "_view_module_version": "1.0.0",
            "_view_name": "OutputView",
            "layout": "IPY_MODEL_70dac573208e4bcd90c514f0221e73d8",
            "msg_id": "",
            "outputs": [
              {
                "output_type": "display_data",
                "data": {
                  "text/plain": "<Figure size 640x480 with 1 Axes>",
                  "image/png": "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\n"
                },
                "metadata": {}
              }
            ]
          }
        },
        "e2412fefd5e84d4cbbd164d677cc9821": {
          "model_module": "@jupyter-widgets/base",
          "model_name": "LayoutModel",
          "model_module_version": "1.2.0",
          "state": {
            "_model_module": "@jupyter-widgets/base",
            "_model_module_version": "1.2.0",
            "_model_name": "LayoutModel",
            "_view_count": null,
            "_view_module": "@jupyter-widgets/base",
            "_view_module_version": "1.2.0",
            "_view_name": "LayoutView",
            "align_content": null,
            "align_items": null,
            "align_self": null,
            "border": null,
            "bottom": null,
            "display": null,
            "flex": null,
            "flex_flow": null,
            "grid_area": null,
            "grid_auto_columns": null,
            "grid_auto_flow": null,
            "grid_auto_rows": null,
            "grid_column": null,
            "grid_gap": null,
            "grid_row": null,
            "grid_template_areas": null,
            "grid_template_columns": null,
            "grid_template_rows": null,
            "height": null,
            "justify_content": null,
            "justify_items": null,
            "left": null,
            "margin": null,
            "max_height": null,
            "max_width": null,
            "min_height": null,
            "min_width": null,
            "object_fit": null,
            "object_position": null,
            "order": null,
            "overflow": null,
            "overflow_x": null,
            "overflow_y": null,
            "padding": null,
            "right": null,
            "top": null,
            "visibility": null,
            "width": null
          }
        },
        "3a61eb559a0c44a6b841d977320e426b": {
          "model_module": "@jupyter-widgets/base",
          "model_name": "LayoutModel",
          "model_module_version": "1.2.0",
          "state": {
            "_model_module": "@jupyter-widgets/base",
            "_model_module_version": "1.2.0",
            "_model_name": "LayoutModel",
            "_view_count": null,
            "_view_module": "@jupyter-widgets/base",
            "_view_module_version": "1.2.0",
            "_view_name": "LayoutView",
            "align_content": null,
            "align_items": null,
            "align_self": null,
            "border": null,
            "bottom": null,
            "display": null,
            "flex": null,
            "flex_flow": null,
            "grid_area": null,
            "grid_auto_columns": null,
            "grid_auto_flow": null,
            "grid_auto_rows": null,
            "grid_column": null,
            "grid_gap": null,
            "grid_row": null,
            "grid_template_areas": null,
            "grid_template_columns": null,
            "grid_template_rows": null,
            "height": null,
            "justify_content": null,
            "justify_items": null,
            "left": null,
            "margin": null,
            "max_height": null,
            "max_width": null,
            "min_height": null,
            "min_width": null,
            "object_fit": null,
            "object_position": null,
            "order": null,
            "overflow": null,
            "overflow_x": null,
            "overflow_y": null,
            "padding": null,
            "right": null,
            "top": null,
            "visibility": null,
            "width": null
          }
        },
        "1945a1984b3c4e4da6fdde222918dda5": {
          "model_module": "@jupyter-widgets/controls",
          "model_name": "SliderStyleModel",
          "model_module_version": "1.5.0",
          "state": {
            "_model_module": "@jupyter-widgets/controls",
            "_model_module_version": "1.5.0",
            "_model_name": "SliderStyleModel",
            "_view_count": null,
            "_view_module": "@jupyter-widgets/base",
            "_view_module_version": "1.2.0",
            "_view_name": "StyleView",
            "description_width": "",
            "handle_color": null
          }
        },
        "853485c687d74ffda0262c1cdecd9c95": {
          "model_module": "@jupyter-widgets/base",
          "model_name": "LayoutModel",
          "model_module_version": "1.2.0",
          "state": {
            "_model_module": "@jupyter-widgets/base",
            "_model_module_version": "1.2.0",
            "_model_name": "LayoutModel",
            "_view_count": null,
            "_view_module": "@jupyter-widgets/base",
            "_view_module_version": "1.2.0",
            "_view_name": "LayoutView",
            "align_content": null,
            "align_items": null,
            "align_self": null,
            "border": null,
            "bottom": null,
            "display": null,
            "flex": null,
            "flex_flow": null,
            "grid_area": null,
            "grid_auto_columns": null,
            "grid_auto_flow": null,
            "grid_auto_rows": null,
            "grid_column": null,
            "grid_gap": null,
            "grid_row": null,
            "grid_template_areas": null,
            "grid_template_columns": null,
            "grid_template_rows": null,
            "height": null,
            "justify_content": null,
            "justify_items": null,
            "left": null,
            "margin": null,
            "max_height": null,
            "max_width": null,
            "min_height": null,
            "min_width": null,
            "object_fit": null,
            "object_position": null,
            "order": null,
            "overflow": null,
            "overflow_x": null,
            "overflow_y": null,
            "padding": null,
            "right": null,
            "top": null,
            "visibility": null,
            "width": null
          }
        },
        "fdd54eac6c8e43fda8d03603c001bc73": {
          "model_module": "@jupyter-widgets/controls",
          "model_name": "SliderStyleModel",
          "model_module_version": "1.5.0",
          "state": {
            "_model_module": "@jupyter-widgets/controls",
            "_model_module_version": "1.5.0",
            "_model_name": "SliderStyleModel",
            "_view_count": null,
            "_view_module": "@jupyter-widgets/base",
            "_view_module_version": "1.2.0",
            "_view_name": "StyleView",
            "description_width": "",
            "handle_color": null
          }
        },
        "70dac573208e4bcd90c514f0221e73d8": {
          "model_module": "@jupyter-widgets/base",
          "model_name": "LayoutModel",
          "model_module_version": "1.2.0",
          "state": {
            "_model_module": "@jupyter-widgets/base",
            "_model_module_version": "1.2.0",
            "_model_name": "LayoutModel",
            "_view_count": null,
            "_view_module": "@jupyter-widgets/base",
            "_view_module_version": "1.2.0",
            "_view_name": "LayoutView",
            "align_content": null,
            "align_items": null,
            "align_self": null,
            "border": null,
            "bottom": null,
            "display": null,
            "flex": null,
            "flex_flow": null,
            "grid_area": null,
            "grid_auto_columns": null,
            "grid_auto_flow": null,
            "grid_auto_rows": null,
            "grid_column": null,
            "grid_gap": null,
            "grid_row": null,
            "grid_template_areas": null,
            "grid_template_columns": null,
            "grid_template_rows": null,
            "height": null,
            "justify_content": null,
            "justify_items": null,
            "left": null,
            "margin": null,
            "max_height": null,
            "max_width": null,
            "min_height": null,
            "min_width": null,
            "object_fit": null,
            "object_position": null,
            "order": null,
            "overflow": null,
            "overflow_x": null,
            "overflow_y": null,
            "padding": null,
            "right": null,
            "top": null,
            "visibility": null,
            "width": null
          }
        },
        "99d08f4eff73463989d13e26d12fbe50": {
          "model_module": "@jupyter-widgets/controls",
          "model_name": "VBoxModel",
          "model_module_version": "1.5.0",
          "state": {
            "_dom_classes": [
              "widget-interact"
            ],
            "_model_module": "@jupyter-widgets/controls",
            "_model_module_version": "1.5.0",
            "_model_name": "VBoxModel",
            "_view_count": null,
            "_view_module": "@jupyter-widgets/controls",
            "_view_module_version": "1.5.0",
            "_view_name": "VBoxView",
            "box_style": "",
            "children": [
              "IPY_MODEL_f4adf6b1eb664ab1aac2223af1a5a71f",
              "IPY_MODEL_7a2fd220dcc84c68b876f7537d67938f",
              "IPY_MODEL_23517f666f8a449fb3af07c14cc5d302",
              "IPY_MODEL_a527d6b6f51e4ebca09334311c793244"
            ],
            "layout": "IPY_MODEL_7ca2dfccdb3b47e89178ab88d4c4e936"
          }
        },
        "f4adf6b1eb664ab1aac2223af1a5a71f": {
          "model_module": "@jupyter-widgets/controls",
          "model_name": "IntSliderModel",
          "model_module_version": "1.5.0",
          "state": {
            "_dom_classes": [],
            "_model_module": "@jupyter-widgets/controls",
            "_model_module_version": "1.5.0",
            "_model_name": "IntSliderModel",
            "_view_count": null,
            "_view_module": "@jupyter-widgets/controls",
            "_view_module_version": "1.5.0",
            "_view_name": "IntSliderView",
            "continuous_update": true,
            "description": "a",
            "description_tooltip": null,
            "disabled": false,
            "layout": "IPY_MODEL_dae74c498de94a429a5d2a0b766f40c6",
            "max": 9,
            "min": -9,
            "orientation": "horizontal",
            "readout": true,
            "readout_format": "d",
            "step": 1,
            "style": "IPY_MODEL_9bd2f0955bcf4abeb1562e59ab51aaf2",
            "value": 2
          }
        },
        "7a2fd220dcc84c68b876f7537d67938f": {
          "model_module": "@jupyter-widgets/controls",
          "model_name": "IntSliderModel",
          "model_module_version": "1.5.0",
          "state": {
            "_dom_classes": [],
            "_model_module": "@jupyter-widgets/controls",
            "_model_module_version": "1.5.0",
            "_model_name": "IntSliderModel",
            "_view_count": null,
            "_view_module": "@jupyter-widgets/controls",
            "_view_module_version": "1.5.0",
            "_view_name": "IntSliderView",
            "continuous_update": true,
            "description": "b",
            "description_tooltip": null,
            "disabled": false,
            "layout": "IPY_MODEL_f7fd3d5274a74eb7802509f49d81a01c",
            "max": 9,
            "min": -9,
            "orientation": "horizontal",
            "readout": true,
            "readout_format": "d",
            "step": 1,
            "style": "IPY_MODEL_c379f7c2217c42149236a4f4d6abc9e3",
            "value": -2
          }
        },
        "23517f666f8a449fb3af07c14cc5d302": {
          "model_module": "@jupyter-widgets/controls",
          "model_name": "IntSliderModel",
          "model_module_version": "1.5.0",
          "state": {
            "_dom_classes": [],
            "_model_module": "@jupyter-widgets/controls",
            "_model_module_version": "1.5.0",
            "_model_name": "IntSliderModel",
            "_view_count": null,
            "_view_module": "@jupyter-widgets/controls",
            "_view_module_version": "1.5.0",
            "_view_name": "IntSliderView",
            "continuous_update": true,
            "description": "c",
            "description_tooltip": null,
            "disabled": false,
            "layout": "IPY_MODEL_f8f927ac09a040bbbb16bd5364d14cff",
            "max": 9,
            "min": -9,
            "orientation": "horizontal",
            "readout": true,
            "readout_format": "d",
            "step": 1,
            "style": "IPY_MODEL_ff2a5d5fa9bc4f92af393c09f217beb7",
            "value": -4
          }
        },
        "a527d6b6f51e4ebca09334311c793244": {
          "model_module": "@jupyter-widgets/output",
          "model_name": "OutputModel",
          "model_module_version": "1.0.0",
          "state": {
            "_dom_classes": [],
            "_model_module": "@jupyter-widgets/output",
            "_model_module_version": "1.0.0",
            "_model_name": "OutputModel",
            "_view_count": null,
            "_view_module": "@jupyter-widgets/output",
            "_view_module_version": "1.0.0",
            "_view_name": "OutputView",
            "layout": "IPY_MODEL_cbd3849c8b7e43e2b042b0458cc1d6c0",
            "msg_id": "",
            "outputs": [
              {
                "output_type": "display_data",
                "data": {
                  "text/plain": "<Figure size 640x480 with 1 Axes>",
                  "image/png": "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\n"
                },
                "metadata": {}
              }
            ]
          }
        },
        "7ca2dfccdb3b47e89178ab88d4c4e936": {
          "model_module": "@jupyter-widgets/base",
          "model_name": "LayoutModel",
          "model_module_version": "1.2.0",
          "state": {
            "_model_module": "@jupyter-widgets/base",
            "_model_module_version": "1.2.0",
            "_model_name": "LayoutModel",
            "_view_count": null,
            "_view_module": "@jupyter-widgets/base",
            "_view_module_version": "1.2.0",
            "_view_name": "LayoutView",
            "align_content": null,
            "align_items": null,
            "align_self": null,
            "border": null,
            "bottom": null,
            "display": null,
            "flex": null,
            "flex_flow": null,
            "grid_area": null,
            "grid_auto_columns": null,
            "grid_auto_flow": null,
            "grid_auto_rows": null,
            "grid_column": null,
            "grid_gap": null,
            "grid_row": null,
            "grid_template_areas": null,
            "grid_template_columns": null,
            "grid_template_rows": null,
            "height": null,
            "justify_content": null,
            "justify_items": null,
            "left": null,
            "margin": null,
            "max_height": null,
            "max_width": null,
            "min_height": null,
            "min_width": null,
            "object_fit": null,
            "object_position": null,
            "order": null,
            "overflow": null,
            "overflow_x": null,
            "overflow_y": null,
            "padding": null,
            "right": null,
            "top": null,
            "visibility": null,
            "width": null
          }
        },
        "dae74c498de94a429a5d2a0b766f40c6": {
          "model_module": "@jupyter-widgets/base",
          "model_name": "LayoutModel",
          "model_module_version": "1.2.0",
          "state": {
            "_model_module": "@jupyter-widgets/base",
            "_model_module_version": "1.2.0",
            "_model_name": "LayoutModel",
            "_view_count": null,
            "_view_module": "@jupyter-widgets/base",
            "_view_module_version": "1.2.0",
            "_view_name": "LayoutView",
            "align_content": null,
            "align_items": null,
            "align_self": null,
            "border": null,
            "bottom": null,
            "display": null,
            "flex": null,
            "flex_flow": null,
            "grid_area": null,
            "grid_auto_columns": null,
            "grid_auto_flow": null,
            "grid_auto_rows": null,
            "grid_column": null,
            "grid_gap": null,
            "grid_row": null,
            "grid_template_areas": null,
            "grid_template_columns": null,
            "grid_template_rows": null,
            "height": null,
            "justify_content": null,
            "justify_items": null,
            "left": null,
            "margin": null,
            "max_height": null,
            "max_width": null,
            "min_height": null,
            "min_width": null,
            "object_fit": null,
            "object_position": null,
            "order": null,
            "overflow": null,
            "overflow_x": null,
            "overflow_y": null,
            "padding": null,
            "right": null,
            "top": null,
            "visibility": null,
            "width": null
          }
        },
        "9bd2f0955bcf4abeb1562e59ab51aaf2": {
          "model_module": "@jupyter-widgets/controls",
          "model_name": "SliderStyleModel",
          "model_module_version": "1.5.0",
          "state": {
            "_model_module": "@jupyter-widgets/controls",
            "_model_module_version": "1.5.0",
            "_model_name": "SliderStyleModel",
            "_view_count": null,
            "_view_module": "@jupyter-widgets/base",
            "_view_module_version": "1.2.0",
            "_view_name": "StyleView",
            "description_width": "",
            "handle_color": null
          }
        },
        "f7fd3d5274a74eb7802509f49d81a01c": {
          "model_module": "@jupyter-widgets/base",
          "model_name": "LayoutModel",
          "model_module_version": "1.2.0",
          "state": {
            "_model_module": "@jupyter-widgets/base",
            "_model_module_version": "1.2.0",
            "_model_name": "LayoutModel",
            "_view_count": null,
            "_view_module": "@jupyter-widgets/base",
            "_view_module_version": "1.2.0",
            "_view_name": "LayoutView",
            "align_content": null,
            "align_items": null,
            "align_self": null,
            "border": null,
            "bottom": null,
            "display": null,
            "flex": null,
            "flex_flow": null,
            "grid_area": null,
            "grid_auto_columns": null,
            "grid_auto_flow": null,
            "grid_auto_rows": null,
            "grid_column": null,
            "grid_gap": null,
            "grid_row": null,
            "grid_template_areas": null,
            "grid_template_columns": null,
            "grid_template_rows": null,
            "height": null,
            "justify_content": null,
            "justify_items": null,
            "left": null,
            "margin": null,
            "max_height": null,
            "max_width": null,
            "min_height": null,
            "min_width": null,
            "object_fit": null,
            "object_position": null,
            "order": null,
            "overflow": null,
            "overflow_x": null,
            "overflow_y": null,
            "padding": null,
            "right": null,
            "top": null,
            "visibility": null,
            "width": null
          }
        },
        "c379f7c2217c42149236a4f4d6abc9e3": {
          "model_module": "@jupyter-widgets/controls",
          "model_name": "SliderStyleModel",
          "model_module_version": "1.5.0",
          "state": {
            "_model_module": "@jupyter-widgets/controls",
            "_model_module_version": "1.5.0",
            "_model_name": "SliderStyleModel",
            "_view_count": null,
            "_view_module": "@jupyter-widgets/base",
            "_view_module_version": "1.2.0",
            "_view_name": "StyleView",
            "description_width": "",
            "handle_color": null
          }
        },
        "f8f927ac09a040bbbb16bd5364d14cff": {
          "model_module": "@jupyter-widgets/base",
          "model_name": "LayoutModel",
          "model_module_version": "1.2.0",
          "state": {
            "_model_module": "@jupyter-widgets/base",
            "_model_module_version": "1.2.0",
            "_model_name": "LayoutModel",
            "_view_count": null,
            "_view_module": "@jupyter-widgets/base",
            "_view_module_version": "1.2.0",
            "_view_name": "LayoutView",
            "align_content": null,
            "align_items": null,
            "align_self": null,
            "border": null,
            "bottom": null,
            "display": null,
            "flex": null,
            "flex_flow": null,
            "grid_area": null,
            "grid_auto_columns": null,
            "grid_auto_flow": null,
            "grid_auto_rows": null,
            "grid_column": null,
            "grid_gap": null,
            "grid_row": null,
            "grid_template_areas": null,
            "grid_template_columns": null,
            "grid_template_rows": null,
            "height": null,
            "justify_content": null,
            "justify_items": null,
            "left": null,
            "margin": null,
            "max_height": null,
            "max_width": null,
            "min_height": null,
            "min_width": null,
            "object_fit": null,
            "object_position": null,
            "order": null,
            "overflow": null,
            "overflow_x": null,
            "overflow_y": null,
            "padding": null,
            "right": null,
            "top": null,
            "visibility": null,
            "width": null
          }
        },
        "ff2a5d5fa9bc4f92af393c09f217beb7": {
          "model_module": "@jupyter-widgets/controls",
          "model_name": "SliderStyleModel",
          "model_module_version": "1.5.0",
          "state": {
            "_model_module": "@jupyter-widgets/controls",
            "_model_module_version": "1.5.0",
            "_model_name": "SliderStyleModel",
            "_view_count": null,
            "_view_module": "@jupyter-widgets/base",
            "_view_module_version": "1.2.0",
            "_view_name": "StyleView",
            "description_width": "",
            "handle_color": null
          }
        },
        "cbd3849c8b7e43e2b042b0458cc1d6c0": {
          "model_module": "@jupyter-widgets/base",
          "model_name": "LayoutModel",
          "model_module_version": "1.2.0",
          "state": {
            "_model_module": "@jupyter-widgets/base",
            "_model_module_version": "1.2.0",
            "_model_name": "LayoutModel",
            "_view_count": null,
            "_view_module": "@jupyter-widgets/base",
            "_view_module_version": "1.2.0",
            "_view_name": "LayoutView",
            "align_content": null,
            "align_items": null,
            "align_self": null,
            "border": null,
            "bottom": null,
            "display": null,
            "flex": null,
            "flex_flow": null,
            "grid_area": null,
            "grid_auto_columns": null,
            "grid_auto_flow": null,
            "grid_auto_rows": null,
            "grid_column": null,
            "grid_gap": null,
            "grid_row": null,
            "grid_template_areas": null,
            "grid_template_columns": null,
            "grid_template_rows": null,
            "height": null,
            "justify_content": null,
            "justify_items": null,
            "left": null,
            "margin": null,
            "max_height": null,
            "max_width": null,
            "min_height": null,
            "min_width": null,
            "object_fit": null,
            "object_position": null,
            "order": null,
            "overflow": null,
            "overflow_x": null,
            "overflow_y": null,
            "padding": null,
            "right": null,
            "top": null,
            "visibility": null,
            "width": null
          }
        }
      }
    }
  },
  "cells": [
    {
      "cell_type": "markdown",
      "metadata": {
        "id": "view-in-github",
        "colab_type": "text"
      },
      "source": [
        "<a href=\"https://colab.research.google.com/github/malaniekcline/College-Algebra-with-Python/blob/main/Financial_Calculator.ipynb\" target=\"_parent\"><img src=\"https://colab.research.google.com/assets/colab-badge.svg\" alt=\"Open In Colab\"/></a>"
      ]
    },
    {
      "cell_type": "markdown",
      "metadata": {
        "id": "EsfO5Q92tL-6"
      },
      "source": [
        "[![freeCodeCamp](https://cdn.freecodecamp.org/testable-projects-fcc/images/fcc_secondary.svg)](https://freecodecamp.org/)"
      ]
    },
    {
      "cell_type": "markdown",
      "metadata": {
        "id": "57mlyO58UfN0"
      },
      "source": [
        "**Learn Foundational Math 3 by Building a Financial App**<br>\n",
        "Each of these steps will lead you toward the Certification Project. Once you complete a step, click to expand the next step."
      ]
    },
    {
      "cell_type": "markdown",
      "metadata": {
        "id": "szp5flp1fA8-"
      },
      "source": [
        "# &darr; **Do this first** &darr;\n",
        "Copy this notebook to your own account by clicking the `File` button at the top, and then click `Save a copy in Drive`. You will need to be logged in to Google. The file will be in a folder called \"Colab Notebooks\" in your Google Drive."
      ]
    },
    {
      "cell_type": "markdown",
      "source": [
        "# Step 0 - Acquire the Testing Library"
      ],
      "metadata": {
        "id": "KDloBuvnHQTS"
      }
    },
    {
      "cell_type": "markdown",
      "source": [
        "Please run this code to get the library file from FreeCodeCamp. Each step will use this library to test your code. You do not need to edit anything; just run this code cell and wait a few seconds until it tells you to go on to the next step."
      ],
      "metadata": {
        "id": "JiW6TlNezZKS"
      }
    },
    {
      "cell_type": "code",
      "source": [
        "# You may need to run this cell at the beginning of each new session\n",
        "\n",
        "!pip install requests\n",
        "\n",
        "# This will just take a few seconds\n",
        "\n",
        "import requests\n",
        "\n",
        "# Get the library from GitHub\n",
        "url = 'https://raw.githubusercontent.com/edatfreecodecamp/python-math/main/math-code-test-c.py'\n",
        "r = requests.get(url)\n",
        "\n",
        "# Save the library in a local working directory\n",
        "with open('math_code_test_c.py', 'w') as f:\n",
        "    f.write(r.text)\n",
        "\n",
        "# Now you can import the library\n",
        "import math_code_test_c as test\n",
        "\n",
        "# This will tell you if the code works\n",
        "test.step00()"
      ],
      "metadata": {
        "id": "eTlHceacGa1C",
        "colab": {
          "base_uri": "https://localhost:8080/"
        },
        "outputId": "854787d6-cfb0-4e7b-d9e4-4944d887e48e"
      },
      "execution_count": null,
      "outputs": [
        {
          "output_type": "stream",
          "name": "stdout",
          "text": [
            "Requirement already satisfied: requests in /usr/local/lib/python3.10/dist-packages (2.31.0)\n",
            "Requirement already satisfied: charset-normalizer<4,>=2 in /usr/local/lib/python3.10/dist-packages (from requests) (3.3.2)\n",
            "Requirement already satisfied: idna<4,>=2.5 in /usr/local/lib/python3.10/dist-packages (from requests) (3.7)\n",
            "Requirement already satisfied: urllib3<3,>=1.21.1 in /usr/local/lib/python3.10/dist-packages (from requests) (2.0.7)\n",
            "Requirement already satisfied: certifi>=2017.4.17 in /usr/local/lib/python3.10/dist-packages (from requests) (2024.2.2)\n",
            "Code test passed\n",
            "Go on to the next step\n"
          ]
        }
      ]
    },
    {
      "cell_type": "markdown",
      "metadata": {
        "id": "r1AM-AcqkbyF"
      },
      "source": [
        "# Step 1 - Graphing Inequalities"
      ]
    },
    {
      "cell_type": "markdown",
      "metadata": {
        "id": "K8rdL_OEkd-t"
      },
      "source": [
        "Learn Inequalities by Building Shaded Graphs. Notice how you set up the plot, like you learned in the last certification. Run the following code and you will see that the graph of y <u>></u> 2x is not quite right. Because y is greater, the shading should be above the line. The second two arguments in the `fill_between()` function give a range of y values to shade. Change just that part of the code to make the graph correct. (Hint: Think about the top of the graph.)\n"
      ]
    },
    {
      "cell_type": "code",
      "metadata": {
        "id": "QAVgVP3xUd4J",
        "colab": {
          "base_uri": "https://localhost:8080/",
          "height": 504
        },
        "outputId": "4ad7d188-b36a-472b-aa4d-8edff4404163"
      },
      "source": [
        "import matplotlib.pyplot as plt\n",
        "import numpy as np\n",
        "\n",
        "xmin = -10\n",
        "xmax = 10\n",
        "ymin = - 10\n",
        "ymax = 10\n",
        "points = 2*(xmax-xmin)\n",
        "x = np.linspace(xmin,xmax,points)\n",
        "\n",
        "fig, ax = plt.subplots()\n",
        "plt.axis([xmin,xmax,ymin,ymax]) # window size\n",
        "plt.plot([xmin,xmax],[0,0],'b') # blue x axis\n",
        "plt.plot([0,0],[ymin,ymax], 'b') # blue y axis\n",
        "\n",
        "plt.title(\"y > 2x\")\n",
        "\n",
        "y1 = 2*x\n",
        "plt.plot(x, y1)\n",
        "\n",
        "# Only change code below this line\n",
        "plt.fill_between(x, y1, ymax)\n",
        "\n",
        "plt.show()\n",
        "\n",
        "\n",
        "# Only change code above this line\n",
        "import math_code_test_c as test\n",
        "test.step01(In[-1].split('# Only change code above this line')[0])"
      ],
      "execution_count": null,
      "outputs": [
        {
          "output_type": "display_data",
          "data": {
            "text/plain": [
              "<Figure size 640x480 with 1 Axes>"
            ],
            "image/png": "[encoded data removed]"
          },
          "metadata": {}
        },
        {
          "output_type": "stream",
          "name": "stdout",
          "text": [
            " \n",
            "Code test passed\n",
            "Go on to the next step\n"
          ]
        }
      ]
    },
    {
      "cell_type": "markdown",
      "metadata": {
        "id": "8wXbGsoYkm60"
      },
      "source": [
        "# Step 2 - Graphing inequalities - Part 2"
      ]
    },
    {
      "cell_type": "markdown",
      "metadata": {
        "id": "ehY1G02Dkv7r"
      },
      "source": [
        "The default graph will give you a solid line, but you can change the type of line and the color. As `'b'` is for a solid blue line, `'b--'` will be a dashed blue line and `'r--'` will display a dashed red line. Change the code to graph a dashed red line."
      ]
    },
    {
      "cell_type": "code",
      "metadata": {
        "id": "3Pp_SmUikwgy",
        "colab": {
          "base_uri": "https://localhost:8080/",
          "height": 487
        },
        "outputId": "2e447f98-5036-4ce1-c11e-784fb3d37318"
      },
      "source": [
        "import matplotlib.pyplot as plt\n",
        "import numpy as np\n",
        "\n",
        "xmin = -10\n",
        "xmax = 10\n",
        "ymin = - 10\n",
        "ymax = 10\n",
        "points = 2*(xmax-xmin)\n",
        "x = np.linspace(xmin,xmax,points)\n",
        "\n",
        "fig, ax = plt.subplots()\n",
        "plt.axis([xmin,xmax,ymin,ymax]) # window size\n",
        "plt.plot([xmin,xmax],[0,0],'b') # blue x axis\n",
        "plt.plot([0,0],[ymin,ymax], 'b') # blue y axis\n",
        "\n",
        "y1 = 2*x\n",
        "\n",
        "# Only change the next line:\n",
        "plt.plot(x, y1, 'r--')\n",
        "\n",
        "plt.fill_between(x, y1, ymin)\n",
        "plt.show()\n",
        "\n",
        "\n",
        "\n",
        "# Only change code above this line\n",
        "import math_code_test_c as test\n",
        "test.step02(In[-1].split('# Only change code above this line')[0])"
      ],
      "execution_count": null,
      "outputs": [
        {
          "output_type": "display_data",
          "data": {
            "text/plain": [
              "<Figure size 640x480 with 1 Axes>"
            ],
            "image/png": "[encoded data removed]"
          },
          "metadata": {}
        },
        {
          "output_type": "stream",
          "name": "stdout",
          "text": [
            " \n",
            "Code test passed\n",
            "Go on to the next step\n"
          ]
        }
      ]
    },
    {
      "cell_type": "markdown",
      "metadata": {
        "id": "tBxuJtHck2Oo"
      },
      "source": [
        "# Step 3 - Making Art with Graphs"
      ]
    },
    {
      "cell_type": "markdown",
      "metadata": {
        "id": "PTr63nCrlTiM"
      },
      "source": [
        "Now plot four inequalities on the graph, in a pattern. Notice how you only need to define the x values once. In the `fill_between()` function notice a fourth argument, `facecolor=`, to indicate a different color for the shaded area. The color name in single quotes, like 'green' or 'yellow' or any common color name. Run the code to see the pattern, then reverse the order of the colors and run it again."
      ]
    },
    {
      "cell_type": "code",
      "metadata": {
        "id": "Iyoq1h3vlV-a",
        "colab": {
          "base_uri": "https://localhost:8080/",
          "height": 487
        },
        "outputId": "0e36fddb-aba7-40a5-f545-57329adb0951"
      },
      "source": [
        "import matplotlib.pyplot as plt\n",
        "import numpy as np\n",
        "\n",
        "xmin = -10\n",
        "xmax = 10\n",
        "ymin = - 10\n",
        "ymax = 10\n",
        "points = 2*(xmax-xmin)\n",
        "x = np.linspace(xmin,xmax,points)\n",
        "\n",
        "fig, ax = plt.subplots()\n",
        "plt.axis([xmin,xmax,ymin,ymax]) # window size\n",
        "plt.plot([xmin,xmax],[0,0],'b') # blue x axis\n",
        "plt.plot([0,0],[ymin,ymax], 'b') # blue y axis\n",
        "\n",
        "# Only change the lines indicated below\n",
        "\n",
        "# line 1\n",
        "y1 = x+6\n",
        "plt.plot(x, y1)\n",
        "plt.fill_between(x, y1, 10, facecolor='blue') # change this line\n",
        "\n",
        "# line 2\n",
        "y2 = x+3\n",
        "plt.plot(x, y2)\n",
        "plt.fill_between(x, y2, y1, facecolor='green') # change this line\n",
        "\n",
        "# line 3\n",
        "y3 = x-1\n",
        "plt.plot(x, y3)\n",
        "plt.fill_between(x, y3, y2, facecolor='yellow') # change this line\n",
        "\n",
        "# line 4\n",
        "y4 = x-4\n",
        "plt.plot(x, y4)\n",
        "plt.fill_between(x, y4, y3, facecolor='red') # change this line\n",
        "\n",
        "plt.show()\n",
        "\n",
        "\n",
        "\n",
        "# Only change code above this line\n",
        "import math_code_test_c as test\n",
        "test.step03(In[-1].split('# Only change code above this line')[0])"
      ],
      "execution_count": null,
      "outputs": [
        {
          "output_type": "display_data",
          "data": {
            "text/plain": [
              "<Figure size 640x480 with 1 Axes>"
            ],
            "image/png": "[encoded data removed]"
          },
          "metadata": {}
        },
        {
          "output_type": "stream",
          "name": "stdout",
          "text": [
            " \n",
            "Code test passed\n",
            "Go on to the next step\n"
          ]
        }
      ]
    },
    {
      "cell_type": "markdown",
      "metadata": {
        "id": "s3z_zaNWlet8"
      },
      "source": [
        "# Step 4 - Monomials"
      ]
    },
    {
      "cell_type": "markdown",
      "metadata": {
        "id": "BTOGQIpElet-"
      },
      "source": [
        "A <i>monomial</i> means \"one thing\" or one term. In a math equation, each term has a sign, a coefficient, and a variable to an exponent. Here are some examples: In the term -3x<sup>2</sup> you can see that the sign is negative, the coefficient is 3, the variable is x, the exponent is 2. The term x also has all of these parts: the sign is positive, the coefficient is 1, the variable is x, and the exponent is 1. In the term 5, the sign is positive, the coefficient is 5, the variable is still x, and the exponent is zero (notice that you don't need to write some of these parts, like x<sup>0</sup>). You can use `sympy` to display monomials nicely. Just run the code to see how this looks.  "
      ]
    },
    {
      "cell_type": "code",
      "metadata": {
        "id": "oAPKmzeblet_",
        "colab": {
          "base_uri": "https://localhost:8080/",
          "height": 73
        },
        "outputId": "4851cb18-ed29-4ab7-cddb-a09e3f562d10"
      },
      "source": [
        "from sympy import symbols, Eq\n",
        "\n",
        "x = symbols('x')\n",
        "eq1 = Eq(-2*x**3 , -16)\n",
        "display(eq1)\n",
        "\n",
        "\n",
        "# Just run this code\n",
        "import math_code_test_c as test\n",
        "test.step00()"
      ],
      "execution_count": null,
      "outputs": [
        {
          "output_type": "display_data",
          "data": {
            "text/plain": [
              "Eq(-2*x**3, -16)"
            ],
            "text/latex": "$\\displaystyle - 2 x^{3} = -16$"
          },
          "metadata": {}
        },
        {
          "output_type": "stream",
          "name": "stdout",
          "text": [
            "Code test passed\n",
            "Go on to the next step\n"
          ]
        }
      ]
    },
    {
      "cell_type": "markdown",
      "metadata": {
        "id": "lnP9BOpPlhdK"
      },
      "source": [
        "# Step 5 - Polynomials"
      ]
    },
    {
      "cell_type": "markdown",
      "metadata": {
        "id": "ABF6PI7TlhdL"
      },
      "source": [
        "A \"monomial\" is one thing. A \"binomial\" is two things. A \"trinomial\" is three things. A \"polynomial\" is many things. In standard form, `x` is the variable; you put your terms in order from highest exponent to lowest; refer to the coefficients with letters in alphabetical order; and set all of this equal to `y` (because it is a function that you can graph). Example: y = ax<sup>4</sup> + bx<sup>3</sup> + cx<sup>2</sup> + dx + e <br>\n",
        "Write code to prompt for integer input and display a polynomial. Remember to use the `**` for exponents. Parts of this are already done for you."
      ]
    },
    {
      "cell_type": "code",
      "metadata": {
        "id": "USVAJRualhdL",
        "colab": {
          "base_uri": "https://localhost:8080/",
          "height": 177
        },
        "outputId": "32c56dde-46e3-4fd2-b5d9-c4efd8c42c30"
      },
      "source": [
        "from IPython.display import display, Math\n",
        "from sympy import *\n",
        "\n",
        "x,y = symbols('x y')\n",
        "\n",
        "a = int(input(\"Enter coefficient A: \"))\n",
        "b = int(input(\"Enter coefficient B: \"))\n",
        "c = int(input(\"Enter coefficient C: \"))\n",
        "d = int(input(\"Enter coefficient D: \"))\n",
        "# continue this to prompt for variables c and d\n",
        "\n",
        "# change the next line to display the full polynomial\n",
        "y = a*x**3 + b*x**2 + c*x + d\n",
        "\n",
        "print(\"Here is your equation:\")\n",
        "display(Math(\"y = \" + latex(y)))\n",
        "\n",
        "\n",
        "# Only change code above this line\n",
        "import math_code_test_c as test\n",
        "test.step05(In[-1].split('# Only change code above this line')[0])"
      ],
      "execution_count": null,
      "outputs": [
        {
          "output_type": "stream",
          "name": "stdout",
          "text": [
            "Enter coefficient A: 12\n",
            "Enter coefficient B: 3\n",
            "Enter coefficient C: 7\n",
            "Enter coefficient D: 8\n",
            "Here is your equation:\n"
          ]
        },
        {
          "output_type": "display_data",
          "data": {
            "text/plain": [
              "<IPython.core.display.Math object>"
            ],
            "text/latex": "$\\displaystyle y = 12 x^{3} + 3 x^{2} + 7 x + 8$"
          },
          "metadata": {}
        },
        {
          "output_type": "stream",
          "name": "stdout",
          "text": [
            " \n",
            "Code test passed\n",
            "Go on to the next step\n"
          ]
        }
      ]
    },
    {
      "cell_type": "markdown",
      "metadata": {
        "id": "yoavB8H_ljVn"
      },
      "source": [
        "# Step 6 - Interactive Polynomial Graph"
      ]
    },
    {
      "cell_type": "markdown",
      "metadata": {
        "id": "3yk-TKO6ljVo"
      },
      "source": [
        "For this polynomial, y = ax<sup>2</sup> + bx + c, you can move the sliders to adjust the coefficients and see how that affects the graph. Notice how the `f()` function takes two arguments and the `interactive()` function defines two sliders. Run this code and interact with it. Then add the third coefficient (\"c\") by changing three things: the `def` line so that the function takes three arguments, the `plt.plot` line so that it includes \"+ c\", and the `interactive` line to include a third slider."
      ]
    },
    {
      "cell_type": "code",
      "metadata": {
        "id": "sOecWXLOljVo",
        "colab": {
          "base_uri": "https://localhost:8080/",
          "height": 583,
          "referenced_widgets": [
            "d81aabe85f5347ca969cbe834f51fb64",
            "4f28d6d4e155446799f38676e573247f",
            "3074833bc3ab4689945b6c33afe617e7",
            "ca01267220694dcf96b1a324e5b3ab75",
            "376c64d004e34c418f44218f3dad7ab9",
            "11ee47340c2f4974a5264155438a19ba",
            "afc6947da4b44e818542edea43be7681",
            "6a0434dcd9684e938729f70f8224effb",
            "e77125c7ed9e46ee87eee570763394d0",
            "e71e484aee7d49e98e6b09f4961165a2",
            "c975c968f6a246479f758fba18394d92",
            "6ccf3d65ede342319420cb91772e73b0",
            "776b71bcad104f1e8a3e5618d3fc0c1a"
          ]
        },
        "outputId": "f7a124b9-e4e1-4018-8ddf-ad82eb7302cd"
      },
      "source": [
        "%matplotlib inline\n",
        "from ipywidgets import interactive\n",
        "import matplotlib.pyplot as plt\n",
        "import numpy as np\n",
        "\n",
        "# Change the next line:\n",
        "def f(a, b, c):\n",
        "    plt.axis([-10,10,-10,10]) # window size\n",
        "    plt.plot([-10,10],[0,0],'k') # blue x axis\n",
        "    plt.plot([0,0],[-10,10], 'k') # blue y axis\n",
        "    x = np.linspace(-10, 10, 200)\n",
        "    plt.plot(x, a*x**2+b*x+c) # Change this line\n",
        "    plt.show()\n",
        "\n",
        "# Change the next line:\n",
        "interactive_plot = interactive(f, a=(-9, 9), b=(-9, 9), c=(-9, 9))\n",
        "display(interactive_plot)\n",
        "\n",
        "\n",
        "# Only change code above this line\n",
        "import math_code_test_c as test\n",
        "test.step06(In[-1].split('# Only change code above this line')[0])"
      ],
      "execution_count": null,
      "outputs": [
        {
          "output_type": "display_data",
          "data": {
            "text/plain": [
              "interactive(children=(IntSlider(value=0, description='a', max=9, min=-9), IntSlider(value=0, description='b', …"
            ],
            "application/vnd.jupyter.widget-view+json": {
              "version_major": 2,
              "version_minor": 0,
              "model_id": "d81aabe85f5347ca969cbe834f51fb64"
            }
          },
          "metadata": {}
        },
        {
          "output_type": "stream",
          "name": "stdout",
          "text": [
            " \n",
            "Code test passed\n",
            "Go on to the next step\n"
          ]
        }
      ]
    },
    {
      "cell_type": "markdown",
      "metadata": {
        "id": "MlRfYVIylkQf"
      },
      "source": [
        "# Step 7 - Exponential Functions"
      ]
    },
    {
      "cell_type": "markdown",
      "metadata": {
        "id": "H16dtXc0lkQg"
      },
      "source": [
        "The general formula for an `exponential function` is $y = a*b^{x}$ (where `a` and `b` are constants and `x` is the variable in the exponent). The shape of exponential graphs, especially when not drawn to scale, are very consistent, so the numerical values are more important to calculate. Things that grow exponentially include populations, investments, and other \"percent increase\" situations. Run this code and use the sliders to see the slight changes. Notice the scale. Then change the slider so that `a` has negative values from -9 to -1 and see how that changes the graph."
      ]
    },
    {
      "cell_type": "code",
      "metadata": {
        "id": "8KIMFu7LlkQg",
        "colab": {
          "base_uri": "https://localhost:8080/",
          "height": 534,
          "referenced_widgets": [
            "11227c3e468c41fab474d4d5bbfffbc1",
            "eb2ee02f35e943888fe5fd51bf6f56f9",
            "509f97c7d9d143bea9136d3cc0ee6dea",
            "c947b272f8124f59899e1f6ef039a5b7",
            "e2412fefd5e84d4cbbd164d677cc9821",
            "3a61eb559a0c44a6b841d977320e426b",
            "1945a1984b3c4e4da6fdde222918dda5",
            "853485c687d74ffda0262c1cdecd9c95",
            "fdd54eac6c8e43fda8d03603c001bc73",
            "70dac573208e4bcd90c514f0221e73d8"
          ]
        },
        "outputId": "15851a4a-5eed-44e7-cf1a-04787e820ed9"
      },
      "source": [
        "%matplotlib inline\n",
        "from ipywidgets import interactive\n",
        "import matplotlib.pyplot as plt\n",
        "import numpy as np\n",
        "\n",
        "xmin = -10\n",
        "xmax = 10\n",
        "ymin = -100\n",
        "ymax = 100\n",
        "\n",
        "def f(a, b):\n",
        "    plt.axis([xmin,xmax,ymin,ymax]) # window size\n",
        "    plt.plot([xmin,xmax],[0,0],'k') # x axis\n",
        "    plt.plot([0,0],[ymin,ymax], 'k') # y axis\n",
        "    x = np.linspace(xmin, xmax, 1000)\n",
        "    plt.plot(x, a*b**x)\n",
        "    plt.show()\n",
        "\n",
        "# Only change the next line:\n",
        "interactive_plot = interactive(f, a=(-9, 1), b=(1, 9))\n",
        "display(interactive_plot)\n",
        "\n",
        "\n",
        "# Only change code above this line\n",
        "import math_code_test_c as test\n",
        "test.step07(In[-1].split('# Only change code above this line')[0])"
      ],
      "execution_count": null,
      "outputs": [
        {
          "output_type": "display_data",
          "data": {
            "text/plain": [
              "interactive(children=(IntSlider(value=-4, description='a', max=1, min=-9), IntSlider(value=5, description='b',…"
            ],
            "application/vnd.jupyter.widget-view+json": {
              "version_major": 2,
              "version_minor": 0,
              "model_id": "11227c3e468c41fab474d4d5bbfffbc1"
            }
          },
          "metadata": {}
        },
        {
          "output_type": "stream",
          "name": "stdout",
          "text": [
            " \n",
            "You should use interactive(f, a=(-9, -1), b=(1, 9)) in your code.\n"
          ]
        }
      ]
    },
    {
      "cell_type": "markdown",
      "metadata": {
        "id": "NGH1FcttllvS"
      },
      "source": [
        "# Step 8 - Percent Increase"
      ]
    },
    {
      "cell_type": "markdown",
      "metadata": {
        "id": "KLKYiioGllvT"
      },
      "source": [
        "One formula for calculating a percent increase is <b>A = P(1 + r)<sup>t</sup></b> where `A` would be the `y` value on a graph and `t` would be the `x` value. `A` is the <i>annuity</i>, which is the amount you have at the end. `P` is the <i>principle</i>, which is the amount you have at the beginning. `R` (usually not capitalized) is the <i>rate</i>, a percent converted to a decimal. The exponent `t` represents <i>time</i>, usually in years. The code already prompts for `P`, `r` and `t`, so use those variables to calculate the annuity value."
      ]
    },
    {
      "cell_type": "code",
      "metadata": {
        "id": "Vkp6zmxIllvT",
        "colab": {
          "base_uri": "https://localhost:8080/"
        },
        "outputId": "766d82b5-8c0c-463d-cf8b-001c6dee8ae7"
      },
      "source": [
        "p = float(input(\"Starting amount = \"))\n",
        "r = float(input(\"Enter the percentage rate, converted to a decimal: \"))\n",
        "t = float(input(\"How many years will this investment grow? \"))\n",
        "\n",
        "# Change the next line to calculate the annuity\n",
        "a = p*(1+r)**t\n",
        "\n",
        "print(\"The annuity is \", a)\n",
        "\n",
        "\n",
        "# Only change code above this line\n",
        "import math_code_test_c as test\n",
        "test.step08(In[-1].split('# Only change code above this line')[0])"
      ],
      "execution_count": null,
      "outputs": [
        {
          "output_type": "stream",
          "name": "stdout",
          "text": [
            "Starting amount = 500\n",
            "Enter the percentage rate, converted to a decimal: 0.10\n",
            "How many years will this investment grow? 5\n",
            "The annuity is  805.2550000000002\n",
            " \n",
            "Code test passed\n",
            "Go on to the next step\n"
          ]
        }
      ]
    },
    {
      "cell_type": "markdown",
      "metadata": {
        "id": "Sx0kwIdalmmY"
      },
      "source": [
        "# Step 9 - Percent Decrease"
      ]
    },
    {
      "cell_type": "markdown",
      "metadata": {
        "id": "Wx7fXQDKlmmZ"
      },
      "source": [
        "The percent decrease formula is very similar, except you subtract the rate, so the formula is <b>A = P(1 - r)<sup>t</sup></b>. Some things that decrease by a percent include car values, decay of some elements, and sales discounts. Use the existing variables to calculate the final value (`a`)."
      ]
    },
    {
      "cell_type": "code",
      "metadata": {
        "id": "zJmQoa6YlmmZ",
        "colab": {
          "base_uri": "https://localhost:8080/"
        },
        "outputId": "773068ec-a36b-4a92-a2db-166833a7c80d"
      },
      "source": [
        "p = float(input(\"Starting amount = \"))\n",
        "r = float(input(\"Enter the percentage rate, converted to a decimal: \"))\n",
        "t = float(input(\"How many years will this decrease continue? \"))\n",
        "\n",
        "# Change the next line to calculate the final amount\n",
        "a = p*(1-r)**t\n",
        "\n",
        "print(\"The final amount is \", a)\n",
        "\n",
        "# Only change code above this line\n",
        "import math_code_test_c as test\n",
        "test.step09(In[-1].split('# Only change code above this line')[0])"
      ],
      "execution_count": null,
      "outputs": [
        {
          "output_type": "stream",
          "name": "stdout",
          "text": [
            "Starting amount = 500\n",
            "Enter the percentage rate, converted to a decimal: 0.10\n",
            "How many years will this decrease continue? 5\n",
            "The final amount is  295.24500000000006\n",
            " \n",
            "Code test passed\n",
            "Go on to the next step\n"
          ]
        }
      ]
    },
    {
      "cell_type": "markdown",
      "source": [
        "#Step 10 - Compound Interest"
      ],
      "metadata": {
        "id": "S-DVSzwDvKvE"
      }
    },
    {
      "cell_type": "markdown",
      "source": [
        "When you use percent increase formulas for money in the bank, it's called <i>compound interest</i>. The amount of money you earn beyond the original principle is the interest. When the bank calculates the interest and adds it to the principle, that process is called <i>compounding</i> and it can happen any number of times per year. The formula is <b> A = P(1 + $\\frac{r}{n}$)<sup>nt</sup></b> where <i>n</i> is the number of times the bank compounds the money per year. Notice that if n = 1 then this formula is the same as the formula from an earlier step. Write the code to calculate the annuity (hint: use extra parentheses)."
      ],
      "metadata": {
        "id": "qf181QFOvCgd"
      }
    },
    {
      "cell_type": "code",
      "source": [
        "p = float(input(\"Starting amount: \"))\n",
        "r = float(input(\"Percentage rate, converted to a decimal: \"))\n",
        "t = float(input(\"Number of years this investment will grow: \"))\n",
        "n = int(input(\"Number of times compounded per year: \"))\n",
        "\n",
        "# Change the next line to calculate the annuity\n",
        "annuity = p*(1+(r/n))**(n*t)\n",
        "\n",
        "print(\"The annuity is \", annuity)\n",
        "\n",
        "\n",
        "# Only change code above this line\n",
        "import math_code_test_c as test\n",
        "test.step10(In[-1].split('# Only change code above this line')[0])"
      ],
      "metadata": {
        "id": "O0FAXixVvGXh",
        "colab": {
          "base_uri": "https://localhost:8080/"
        },
        "outputId": "f4bd5826-5f0e-4ebd-9eb7-7f4656bca2b2"
      },
      "execution_count": null,
      "outputs": [
        {
          "output_type": "stream",
          "name": "stdout",
          "text": [
            "Starting amount: 500\n",
            "Percentage rate, converted to a decimal: 0.10\n",
            "Number of years this investment will grow: 50\n",
            "Number of times compounded per year: 2\n",
            "The annuity is  65750.628923152\n",
            " \n",
            "Code test passed\n",
            "Go on to the next step\n"
          ]
        }
      ]
    },
    {
      "cell_type": "markdown",
      "metadata": {
        "id": "H6LTAPYplxvi"
      },
      "source": [
        "# Step 11 - Continuous Growth"
      ]
    },
    {
      "cell_type": "markdown",
      "metadata": {
        "id": "5oRPxD6olxvi"
      },
      "source": [
        "In the first formula, A = P(1 + r)<sup>t</sup>, money is compounded annually.<br>\n",
        "In the second formula, A = P(1 + $\\frac{r}{n})^{nt}$, money is compounded `n` times per year.<br>\n",
        "As `n` gets to be a really big number, you get a different formula, A = Pe$^{rt}$, for continuous growth.<br>\n",
        "In this formula, `e` is a constant, about equal to 2.718281828. The following code already prompts for the four variables once. Use those variables to compare the annuity from the three formulas. Notice you need to `import math` to use `math.e` (the best approximation of e)."
      ]
    },
    {
      "cell_type": "code",
      "metadata": {
        "id": "kf3Q0Yg7lxvk",
        "colab": {
          "base_uri": "https://localhost:8080/"
        },
        "outputId": "b745ceac-a8dc-4f4f-aa6b-cde29ad12e49"
      },
      "source": [
        "import math\n",
        "\n",
        "p = float(input(\"Principle: \"))\n",
        "r = float(input(\"Rate: \"))\n",
        "t = int(input(\"Time: \"))\n",
        "n = int(input(\"N: \"))\n",
        "\n",
        "# Only change the following three formulas:\n",
        "a_annual = p*(1+r)**t\n",
        "a_n_times = p*(1+r/n)**(n*t)\n",
        "a_continuous = p*math.e**(r*t) # use math.e in this formula\n",
        "\n",
        "# Only change the code above this line\n",
        "\n",
        "print(\"Compounded annually, anuity = \", a_annual)\n",
        "print(\"Compounded \", n, \"times per year, anuity = \", a_n_times)\n",
        "print(\"Compounded continuously, anuity = \", a_continuous)\n",
        "\n",
        "\n",
        "# Only change code above this line\n",
        "import math_code_test_c as test\n",
        "test.step11(In[-1].split('# Only change code above this line')[0])"
      ],
      "execution_count": null,
      "outputs": [
        {
          "output_type": "stream",
          "name": "stdout",
          "text": [
            "Principle: 120\n",
            "Rate: 20\n",
            "Time: 6\n",
            "N: 7\n",
            "Compounded annually, anuity =  10291934520.0\n",
            "Compounded  7 times per year, anuity =  5.038968693279339e+26\n",
            "Compounded continuously, anuity =  1.5650170540723487e+54\n",
            " \n",
            "Code test passed\n",
            "Go on to the next step\n"
          ]
        }
      ]
    },
    {
      "cell_type": "markdown",
      "metadata": {
        "id": "iaEBltZXln-Q"
      },
      "source": [
        "# Step 12 - Investments"
      ]
    },
    {
      "cell_type": "markdown",
      "source": [
        "If you have an investment where you contrubute money every month and the value also increases by a consistent percentage, you can create a loop to calculate the accumulated value. In each iteration, use the <i>simple interest</i> formula: interest = principle * rate * time. (Hint: for one month, t = $\\frac{1}{12}$ or you can just divide by 12.)"
      ],
      "metadata": {
        "id": "JTQ9uZw3UeGT"
      }
    },
    {
      "cell_type": "code",
      "metadata": {
        "id": "t7sRzH5Oln-R",
        "colab": {
          "base_uri": "https://localhost:8080/"
        },
        "outputId": "0b7e7848-343b-4885-cc52-c57555881b0f"
      },
      "source": [
        "p = float(input(\"Starting amount: \"))\n",
        "r = float(input(\"Annual percentage rate: \"))\n",
        "t = int(input(\"Number of years: \"))\n",
        "monthly = float(input(\"Monthly contribution: \"))\n",
        "\n",
        "# Hint: keep updating this annuity variable in the loop\n",
        "annuity = p\n",
        "\n",
        "# Each iteration of the loop represents one month\n",
        "for a in range(12*t):\n",
        "    annuity = annuity + monthly\n",
        "    # Change the next line to calculate the interest\n",
        "    interest = annuity * r / 12\n",
        "    annuity = annuity + interest\n",
        "\n",
        "# Keep this line:\n",
        "print(\"Annuity = \", annuity)\n",
        "\n",
        "\n",
        "# Only change code above this line\n",
        "import math_code_test_c as test\n",
        "test.step12(p,r,t,monthly,annuity)"
      ],
      "execution_count": null,
      "outputs": [
        {
          "output_type": "stream",
          "name": "stdout",
          "text": [
            "Starting amount: 500\n",
            "Annual percentage rate: 0.2\n",
            "Number of years: 5\n",
            "Monthly contribution: 300\n",
            "Annuity =  32384.23861940824\n",
            " \n",
            "Code test passed\n",
            "Go on to the next step\n"
          ]
        }
      ]
    },
    {
      "cell_type": "markdown",
      "metadata": {
        "id": "l5GwlqRdlpEu"
      },
      "source": [
        "# Step 13 - Mortgage Payments"
      ]
    },
    {
      "cell_type": "markdown",
      "metadata": {
        "id": "50OH4hj8lpEv"
      },
      "source": [
        "When borrowing a large amount of money over a long period of time, the formula to calculate monthly payments gets complicated. Here it is:<br>\n",
        " monthly payment = P$\\frac{\\frac{r}{12}(1 + \\frac{r}{12})^{12t}}{(1 + \\frac{r}{12})^{12t} - 1}$ where, as usual, `P` is the principle, `r` is the annual interest rate (as a decimal), and  `t` is the time in years. Write the code to prompt for these variables and calculate the monthly payment. Hint: Use other variables and do this in steps."
      ]
    },
    {
      "cell_type": "code",
      "metadata": {
        "id": "E5X8_WbnlpEv",
        "colab": {
          "base_uri": "https://localhost:8080/"
        },
        "outputId": "473a0f6f-b29b-4c19-c090-71cdd06ee34f"
      },
      "source": [
        "p = float(input(\"Amount borrowed: \"))\n",
        "r = float(input(\"Annual percentage rate: \"))\n",
        "t = float(input(\"Number of years: \"))\n",
        "\n",
        "# Write your code here and change the pmt variable\n",
        "\n",
        "mult = 1+r/12\n",
        "exp = 12*t\n",
        "top = r/12*mult**exp\n",
        "bot = (mult**exp)-1\n",
        "pmt = top/bot\n",
        "\n",
        "\n",
        "print(\"Monthly payment = $\", pmt)\n",
        "\n",
        "\n",
        "# Only change code above this line\n",
        "import math_code_test_c as test\n",
        "test.step13(p,r,t,pmt)"
      ],
      "execution_count": null,
      "outputs": [
        {
          "output_type": "stream",
          "name": "stdout",
          "text": [
            "Amount borrowed: 1200\n",
            "Annual percentage rate: 20\n",
            "Number of years: 5\n",
            "Monthly payment = $ 1.6666666666666667\n",
            " \n",
            "Here is one way to write the code, using extra variables:\n",
            "mult = 1+r/12\n",
            "exp = 12*t\n",
            "top = r/12*mult**exp\n",
            "bot = (mult**exp)-1\n",
            "pmt = top/bot\n"
          ]
        }
      ]
    },
    {
      "cell_type": "markdown",
      "metadata": {
        "id": "8vdTo36Pl0yv"
      },
      "source": [
        "# Step 14 - Exponents and Logarithms"
      ]
    },
    {
      "cell_type": "markdown",
      "metadata": {
        "id": "gyMju8CVl0yw"
      },
      "source": [
        "Exponential functions and logarithmic functions are inverses of each other. Here is an example: <b>2<sup>4</sup> = 16</b> and <b>log<sub>2</sub>16 = 4</b>. Both have the same information rearranged in different ways. If you had 2<sup>4</sup> = x you would be able to do that easily, but if you had 2<sup>x</sup> = 16 it would be more difficult. You could write that last equation as a logarithm: log<sub>2</sub>16 = x. In Python, you would write this as `math.log(16,2)`. In both cases, you would read it as \"the log, base 2, of 16\" and the answer would be an exponent. The logarithm is especially useful when the exponent is not a nice integer. Write code to prompt for the base and the result, then use logarithms to calculate the exponent."
      ]
    },
    {
      "cell_type": "code",
      "metadata": {
        "id": "ehtA_ATbl0yw",
        "colab": {
          "base_uri": "https://localhost:8080/"
        },
        "outputId": "bf9fb6bb-f604-4c2e-dd40-d3661f199583"
      },
      "source": [
        "import math\n",
        "\n",
        "base = float(input(\"base: \"))\n",
        "result = float(input(\"result: \"))\n",
        "\n",
        "# Just change the next line:\n",
        "exp = math.log(result, base)\n",
        "\n",
        "print(\"exponent = \", exp)\n",
        "\n",
        "\n",
        "# Only change code above this line\n",
        "import math_code_test_c as test\n",
        "test.step14(In[-1].split('# Only change code above this line')[0])"
      ],
      "execution_count": null,
      "outputs": [
        {
          "output_type": "stream",
          "name": "stdout",
          "text": [
            "base: 10\n",
            "result: 500\n",
            "exponent =  2.6989700043360183\n",
            " \n",
            "Code test passed\n",
            "Go on to the next step\n"
          ]
        }
      ]
    },
    {
      "cell_type": "markdown",
      "metadata": {
        "id": "U_7bv7aG4UJe"
      },
      "source": [
        "# Step 15 - Natural Logs"
      ]
    },
    {
      "cell_type": "markdown",
      "metadata": {
        "id": "uKjifZw04UJe"
      },
      "source": [
        "If you know the rate, how long will it take for something to double?\n",
        "Start with the continuous growth formula:<br>\n",
        "A = Pe<sup>rt</sup><br>\n",
        "If annuity is two times the principle, divide both sides by P\n",
        "and get this:<br>\n",
        "2 = e<sup>rt</sup><br>\n",
        "Because of the base <i>e</i>, take the natural log of both sides and get this:<br>\n",
        "ln(2) = rt<br>\n",
        "Then divide by r to solve for t or divide by t to solve for r. In Python, use `math.log()` with one argument and no base to calculate natural log (which is a logarithm with base e). So the natural log of 2 is `math.log(2)`. Just run the code to see this example."
      ]
    },
    {
      "cell_type": "code",
      "metadata": {
        "id": "dM3RxByK4UJe",
        "colab": {
          "base_uri": "https://localhost:8080/"
        },
        "outputId": "e714aa8f-789f-4cba-d043-3d81a0fedd12"
      },
      "source": [
        "import math\n",
        "\n",
        "r = float(input(\"Enter the annual rate as a decimal: \\n\"))\n",
        "t = math.log(2)/r\n",
        "print(\"Your money will double in \", t, \" years\")\n",
        "\n",
        "\n",
        "# Just run this code\n",
        "import math_code_test_c as test\n",
        "test.step00()"
      ],
      "execution_count": null,
      "outputs": [
        {
          "output_type": "stream",
          "name": "stdout",
          "text": [
            "Enter the annual rate as a decimal: \n",
            "0.5\n",
            "Your money will double in  1.3862943611198906  years\n",
            "Code test passed\n",
            "Go on to the next step\n"
          ]
        }
      ]
    },
    {
      "cell_type": "markdown",
      "metadata": {
        "id": "B7DOz9nh4XAb"
      },
      "source": [
        "# Step 16 - Common Logs"
      ]
    },
    {
      "cell_type": "markdown",
      "metadata": {
        "id": "MD3dH5yF4XAb"
      },
      "source": [
        "The <i>common log</i> is base 10, because that is our number system. Run this code a few times to see how the exponents relate to moving the decimal point to get the resulting number. Notice the floor function. Then take out the floor function to see the exact logarithm."
      ]
    },
    {
      "cell_type": "code",
      "metadata": {
        "id": "n390hG0GcEXI",
        "colab": {
          "base_uri": "https://localhost:8080/"
        },
        "outputId": "7fab6b2e-1c1c-47dc-def9-91c0f6fbae90"
      },
      "source": [
        "import math\n",
        "\n",
        "n = input('Enter a number with several digits or several decimal places: ')\n",
        "n = float(n)\n",
        "\n",
        "\n",
        "# Rund the code then change the next line:\n",
        "exp = math.log(n, 10)\n",
        "\n",
        "# This avoids a weird Python quirk:\n",
        "if n==1000:\n",
        "    exp = 3;\n",
        "\n",
        "print(\"exponent = \", exp)\n",
        "\n",
        "\n",
        "# Only change code above this line\n",
        "import math_code_test_c as test\n",
        "test.step16(In[-1].split('# Only change code above this line')[0])"
      ],
      "execution_count": null,
      "outputs": [
        {
          "output_type": "stream",
          "name": "stdout",
          "text": [
            "Enter a number with several digits or several decimal places: 6789\n",
            "exponent =  3.8318058086743907\n",
            " \n",
            "Code test passed\n",
            "Go on to the next step\n"
          ]
        }
      ]
    },
    {
      "cell_type": "markdown",
      "metadata": {
        "id": "cqvLtj7t4VMN"
      },
      "source": [
        "# Step 17 - Scientific Notation"
      ]
    },
    {
      "cell_type": "markdown",
      "metadata": {
        "id": "-Uh4YmRt4VMN"
      },
      "source": [
        "<i>Scientific Notation</i> is a way of writing very large or very small numbers without all of the zeros or decimal places. For example, 45,000,000 could be written as 4.5 x 10<sup>7</sup> in scientific notation and 0.00000045 could be written as 4.5 x 10<sup>-7</sup>. The notation requires base 10, so it will always use the structure <b>n $*$ 10<sup>x</sup></b> where n is one digit then the decimal point. Change the code below to print each number in scientific notation. Determine the value of each variable by counting (not writing code). You will automate this process in the next step."
      ]
    },
    {
      "cell_type": "code",
      "metadata": {
        "id": "UyPF6dKz4VMO",
        "colab": {
          "base_uri": "https://localhost:8080/"
        },
        "outputId": "a6ac7857-eb00-4950-c321-6b9c72b90414"
      },
      "source": [
        "a = 156000000000\n",
        "b = 0.000000000413\n",
        "\n",
        "# Change the code below this line\n",
        "\n",
        "a1 = 1.56\n",
        "a2 = 11\n",
        "b1 = 4.13\n",
        "b2 = -10\n",
        "\n",
        "print(a, \" = \", a1, \"* 10^\", a2)\n",
        "\n",
        "print(b, \" = \", b1, \"* 10^\", b2)\n",
        "\n",
        "\n",
        "# Only change code above this line\n",
        "import math_code_test_c as test\n",
        "test.step17(b1,b2)"
      ],
      "execution_count": null,
      "outputs": [
        {
          "output_type": "stream",
          "name": "stdout",
          "text": [
            "156000000000  =  1.56 * 10^ 11\n",
            "4.13e-10  =  4.13 * 10^ -10\n",
            " \n",
            "Code test passed\n",
            "Go on to the next step\n"
          ]
        }
      ]
    },
    {
      "cell_type": "markdown",
      "metadata": {
        "id": "GsLj1NhZl1ya"
      },
      "source": [
        "#Step 18 - Logs and Scientific Notation"
      ]
    },
    {
      "cell_type": "markdown",
      "metadata": {
        "id": "uhWbIGVml1yb"
      },
      "source": [
        "Writing code for scientific notation, you will make use of logarithms with base 10. Remember that scientific notation is in the form n $*$ 10<sup>x</sup> where `n` is one digit and then a decimal. To convert a number to scientific notation, take the log of the number and use the `floor()` function to get the expoenent (just as you did in a previous step). Divide the original number by 10 to that exponent and you get `n` (hint: dividing by 10<sup>x</sup> is the same as multiplying by 10<sup>-x</sup>). Rounding is usually necessary. Write the code to convert numbers to scientific notation."
      ]
    },
    {
      "cell_type": "code",
      "metadata": {
        "id": "y8PXrFCYl1yb",
        "colab": {
          "base_uri": "https://localhost:8080/"
        },
        "outputId": "a191f6c5-abc9-46ce-c5e6-2b5a226c3a7b"
      },
      "source": [
        "import math\n",
        "\n",
        "a = .00000000000234\n",
        "b = 12300000000000\n",
        "\n",
        "# Use these three lines as a model\n",
        "x1 = math.floor(math.log(a,10))\n",
        "n1 = round(a*10**(-x1),2)\n",
        "print(\"a = \", n1, \"* 10^\", x1)\n",
        "\n",
        "# Change the next two lines to match the model\n",
        "x2 = math.floor(math.log(b,10))\n",
        "n2 = round(b*10**(-x2), 2)\n",
        "print(\"b = \", n2, \"* 10^\", x2)\n",
        "\n",
        "\n",
        "\n",
        "# Only change code above this line\n",
        "import math_code_test_c as test\n",
        "test.step18(In[-1].split('# Only change code above this line')[0])"
      ],
      "execution_count": null,
      "outputs": [
        {
          "output_type": "stream",
          "name": "stdout",
          "text": [
            "a =  2.34 * 10^ -12\n",
            "b =  1.23 * 10^ 13\n",
            " \n",
            "Code test passed\n",
            "Go on to the next step\n"
          ]
        }
      ]
    },
    {
      "cell_type": "markdown",
      "metadata": {
        "id": "d7Lc9KfMYU8Y"
      },
      "source": [
        "# Step 19 - Scientific Notation Conversion"
      ]
    },
    {
      "cell_type": "markdown",
      "metadata": {
        "id": "21gdVKfeYc5R"
      },
      "source": [
        "Now ask for a number as input, and write the code to convert that number into scientific notation. You can re-use code you used in the previous step, using `n` and `x` as variables to print n * 10^x."
      ]
    },
    {
      "cell_type": "code",
      "metadata": {
        "id": "VkOkpmrP4XAb",
        "colab": {
          "base_uri": "https://localhost:8080/"
        },
        "outputId": "a9e294ac-f99f-421c-89f9-0b69cd3ad0ba"
      },
      "source": [
        "import math\n",
        "\n",
        "a = float(input('Enter a number to convert to scientific notation: '))\n",
        "\n",
        "# write your code here\n",
        "n = round(a*10**(-x),2)\n",
        "x = math.floor(math.log(a,10))\n",
        "print(a, \" = \")\n",
        "\n",
        "# Only change code above this line\n",
        "import math_code_test_c as test\n",
        "test.step19(In[-1].split('# Only change code above this line')[0])"
      ],
      "execution_count": null,
      "outputs": [
        {
          "output_type": "stream",
          "name": "stdout",
          "text": [
            "Enter a number to convert to scientific notation: 1200000\n",
            "1200000.0  = \n",
            " \n",
            "Code test passed\n",
            "Go on to the next step\n"
          ]
        }
      ]
    },
    {
      "cell_type": "markdown",
      "metadata": {
        "id": "VkD30ljxlyw9"
      },
      "source": [
        "# Step 20 - Graphing Exponents and Logs"
      ]
    },
    {
      "cell_type": "markdown",
      "metadata": {
        "id": "A7YL0fIdlyw-"
      },
      "source": [
        "When not writing code, the <i>natural log</i> is written as \"ln\" and it means a logarithm with base e. Like any pair of inverse functions, the line y = e<sup>x</sup> and the line y = ln(x) are mirrored over the line y = x.  Because of the `np.linspace()` function in this code, `np.log()` works, but `math.log()` does not work here. Both log() functions in Python use e as the base by default. When using the `numpy` library, use `np.log10()` for base 10, `np.log2()` for base 2, etc. Because log functions can only have positive x values, the np.linspace() function will define a positive range for the log() function. Run this code, then change the blue line function to graph y = 2<sup>x</sup> and change the green line function to graph y = log<sub>2</sub>x and notice the similarities between the graphs."
      ]
    },
    {
      "cell_type": "code",
      "metadata": {
        "id": "fJiDmoW1lyw_",
        "colab": {
          "base_uri": "https://localhost:8080/",
          "height": 487
        },
        "outputId": "852cdcc3-a1d8-45b1-dc31-5498a52e90ca"
      },
      "source": [
        "import matplotlib.pyplot as plt\n",
        "import numpy as np\n",
        "import math\n",
        "\n",
        "xmin = -10\n",
        "xmax = 10\n",
        "ymin = -10\n",
        "ymax = 10\n",
        "plt.axis([xmin,xmax,ymin,ymax]) # window size\n",
        "plt.plot([xmin,xmax],[0,0],'k') # x axis\n",
        "plt.plot([0,0],[ymin,ymax], 'k') # y axis\n",
        "\n",
        "# Same x values for two lines\n",
        "x1 = np.linspace(xmin, xmax, 1000)\n",
        "\n",
        "# Blue line for y = e^x\n",
        "plt.plot(x1, 2**x1, 'b')\n",
        "\n",
        "# Red line for y = x\n",
        "plt.plot(x1, x1, 'r')\n",
        "\n",
        "# Different x values for y = log(x) because x > 0\n",
        "x2 = np.linspace(.001, xmax, 500)\n",
        "\n",
        "# Green line for y = log(x)\n",
        "plt.plot(x2, np.log2(x2), 'g')\n",
        "\n",
        "plt.show()\n",
        "\n",
        "\n",
        "# Only change code above this line\n",
        "import math_code_test_c as test\n",
        "test.step20(In[-1].split('# Only change code above this line')[0])"
      ],
      "execution_count": null,
      "outputs": [
        {
          "output_type": "display_data",
          "data": {
            "text/plain": [
              "<Figure size 640x480 with 1 Axes>"
            ],
            "image/png": "[encoded data removed]"
          },
          "metadata": {}
        },
        {
          "output_type": "stream",
          "name": "stdout",
          "text": [
            " \n",
            "Code test passed\n",
            "Go on to the next step\n"
          ]
        }
      ]
    },
    {
      "cell_type": "markdown",
      "metadata": {
        "id": "bJzxcKIfz8Qt"
      },
      "source": [
        "# Step 21 - Log Application - pH Scale"
      ]
    },
    {
      "cell_type": "markdown",
      "metadata": {
        "id": "pfF3voqSz8Q9"
      },
      "source": [
        "The pH scale, for measuring acids and bases, is a logarithmic scale. The negative log of the hydrogen concentration is the pH. Example: if the hydrogen concentration is .007 then that would be 7 * 10<sup>-3</sup> and therefore a pH of 3. Write the code to prompt for hydrogen concentration and then print the pH. Hint: the <i>ceiling</i> function (`math.ceil()`) works better than rounding here."
      ]
    },
    {
      "cell_type": "code",
      "metadata": {
        "id": "tepkvSubz8Q9",
        "colab": {
          "base_uri": "https://localhost:8080/"
        },
        "outputId": "20034fb2-29ae-4e69-e54e-77274a274a22"
      },
      "source": [
        "import math\n",
        "\n",
        "decimal = float(input(\"Enter the hydrogen concentration as a decimal number: \"))\n",
        "\n",
        "# Write your code here\n",
        "h = math.ceil(-math.log(decimal, 10))\n",
        "\n",
        "print(\"pH = \", h)\n",
        "\n",
        "# Only change code above this line\n",
        "import math_code_test_c as test\n",
        "test.step21(In[-1].split('# Only change code above this line')[0])"
      ],
      "execution_count": null,
      "outputs": [
        {
          "output_type": "stream",
          "name": "stdout",
          "text": [
            "Enter the hydrogen concentration as a decimal number: 0.5\n",
            "pH =  1\n",
            " \n",
            "Code test passed\n"
          ]
        }
      ]
    },
    {
      "cell_type": "markdown",
      "source": [
        "# Step 22 - Functions for the Project"
      ],
      "metadata": {
        "id": "8iWUAktvPLYp"
      }
    },
    {
      "cell_type": "markdown",
      "source": [
        "Define a function for calculating mortgage payments and a function for calculating investment balance. Use code you wrote in earlier steps. Each function should prompt for input and print the output."
      ],
      "metadata": {
        "id": "a9gRwbr-PGPC"
      }
    },
    {
      "cell_type": "code",
      "source": [
        "def calculate_mortgage_payment(p, r, t):\n",
        "  mult = 1+r/12\n",
        "  exp = 12*t\n",
        "  top = r/12*mult**exp\n",
        "  bot = (mult**exp)-1\n",
        "  pmt = top/bot\n",
        "\n",
        "  print(\"Monthly payment = $\", pmt)\n",
        "\n",
        "\n",
        "def calculate_investment_balance(p, r, t, monthly):\n",
        "  annuity = p\n",
        "\n",
        "  # Each iteration of the loop represents one month\n",
        "  for a in range(12*t):\n",
        "      annuity = annuity + monthly\n",
        "      interest = annuity * r / 12\n",
        "      annuity = annuity + interest\n",
        "\n",
        "  print(\"Annuity = \", annuity)\n",
        "\n",
        "p = float(input(\"Amount borrowed: \"))\n",
        "r = float(input(\"Annual percentage rate: \"))\n",
        "t = int(input(\"Number of years: \"))\n",
        "monthly = float(input(\"Monthly contribution: \"))\n",
        "calculate_mortgage_payment(p, r, t)\n",
        "calculate_investment_balance(p, r, t, monthly)"
      ],
      "metadata": {
        "id": "neFvvCOzO_WB",
        "colab": {
          "base_uri": "https://localhost:8080/"
        },
        "outputId": "d8a9e16d-1b34-4d57-c52b-d6f50bc1c05a"
      },
      "execution_count": null,
      "outputs": [
        {
          "output_type": "stream",
          "name": "stdout",
          "text": [
            "Amount borrowed: 12000\n",
            "Annual percentage rate: 0.15\n",
            "Number of years: 10\n",
            "Monthly contribution: 600\n",
            "Monthly payment = $ 0.01613349570743158\n",
            "Annuity =  220476.92167371832\n"
          ]
        }
      ]
    },
    {
      "cell_type": "markdown",
      "source": [
        "# Step 23 - More Functions"
      ],
      "metadata": {
        "id": "rzaQj8dEOfzb"
      }
    },
    {
      "cell_type": "markdown",
      "source": [
        "Create a function that produces an interactive polynomial graph (with sliders). Use code from an earlier step."
      ],
      "metadata": {
        "id": "C6OV8KzQOTS_"
      }
    },
    {
      "cell_type": "code",
      "source": [
        "%matplotlib inline\n",
        "from ipywidgets import interactive\n",
        "import matplotlib.pyplot as plt\n",
        "import numpy as np\n",
        "\n",
        "def f(a, b, c):\n",
        "    plt.axis([-10,10,-10,10]) # window size\n",
        "    plt.plot([-10,10],[0,0],'k') # blue x axis\n",
        "    plt.plot([0,0],[-10,10], 'k') # blue y axis\n",
        "    x = np.linspace(-10, 10, 200)\n",
        "    plt.plot(x, a*x**2+b*x+c)\n",
        "    plt.show()\n",
        "\n",
        "interactive_plot = interactive(f, a=(-9, 9), b=(-9, 9), c=(-9, 9))\n",
        "display(interactive_plot)"
      ],
      "metadata": {
        "id": "6cGh0vE1OYyC",
        "colab": {
          "base_uri": "https://localhost:8080/",
          "height": 531,
          "referenced_widgets": [
            "99d08f4eff73463989d13e26d12fbe50",
            "f4adf6b1eb664ab1aac2223af1a5a71f",
            "7a2fd220dcc84c68b876f7537d67938f",
            "23517f666f8a449fb3af07c14cc5d302",
            "a527d6b6f51e4ebca09334311c793244",
            "7ca2dfccdb3b47e89178ab88d4c4e936",
            "dae74c498de94a429a5d2a0b766f40c6",
            "9bd2f0955bcf4abeb1562e59ab51aaf2",
            "f7fd3d5274a74eb7802509f49d81a01c",
            "c379f7c2217c42149236a4f4d6abc9e3",
            "f8f927ac09a040bbbb16bd5364d14cff",
            "ff2a5d5fa9bc4f92af393c09f217beb7",
            "cbd3849c8b7e43e2b042b0458cc1d6c0"
          ]
        },
        "outputId": "9a019917-aa26-4af0-f3d3-c63a2cc05daa"
      },
      "execution_count": null,
      "outputs": [
        {
          "output_type": "display_data",
          "data": {
            "text/plain": [
              "interactive(children=(IntSlider(value=0, description='a', max=9, min=-9), IntSlider(value=0, description='b', …"
            ],
            "application/vnd.jupyter.widget-view+json": {
              "version_major": 2,
              "version_minor": 0,
              "model_id": "99d08f4eff73463989d13e26d12fbe50"
            }
          },
          "metadata": {}
        }
      ]
    },
    {
      "cell_type": "markdown",
      "source": [
        "# Step 24 - New Function"
      ],
      "metadata": {
        "id": "UptjjiCOTSS2"
      }
    },
    {
      "cell_type": "markdown",
      "source": [
        "Create a function to print the time required for money to double, given the rate. Use the continuous growth formula from an earlier step."
      ],
      "metadata": {
        "id": "XKXNbHzGTKAp"
      }
    },
    {
      "cell_type": "code",
      "source": [
        "import math\n",
        "\n",
        "def doubling_time(rate):\n",
        "    return math.log(2) / rate  # Formula: ln(2) / rate\n",
        "\n",
        "p = float(input(\"Principle: \"))\n",
        "r = float(input(\"Rate: \"))\n",
        "t = int(input(\"Time: \"))\n",
        "n = int(input(\"N: \"))\n",
        "\n",
        "# Only change the following three formulas:\n",
        "a_annual = p*(1+r)**t\n",
        "a_n_times = p*(1+r/n)**(n*t)\n",
        "a_continuous = p*math.e**(r*t)\n",
        "\n",
        "# Only change the code above this line\n",
        "\n",
        "print(\"Compounded annually, anuity = \", a_annual)\n",
        "print(\"Compounded \", n, \"times per year, anuity = \", a_n_times)\n",
        "print(\"Compounded continuously, anuity = \", a_continuous)\n",
        "\n",
        "# Calculate doubling time\n",
        "doubling_years = doubling_time(r)\n",
        "print(\"Approximate time to double (continuous compounding):\", doubling_years, \"years\")"
      ],
      "metadata": {
        "id": "kWs_IpxrTYyl",
        "colab": {
          "base_uri": "https://localhost:8080/"
        },
        "outputId": "2aef948c-6a89-449f-fb1a-358edbd97916"
      },
      "execution_count": null,
      "outputs": [
        {
          "output_type": "stream",
          "name": "stdout",
          "text": [
            "Principle: 10000\n",
            "Rate: 0.5\n",
            "Time: 12\n",
            "N: 5\n",
            "Compounded annually, anuity =  1297463.37890625\n",
            "Compounded  5 times per year, anuity =  3044816.3954141955\n",
            "Compounded continuously, anuity =  4034287.93492735\n",
            "Approximate time to double (continuous compounding): 1.3862943611198906 years\n"
          ]
        }
      ]
    },
    {
      "cell_type": "markdown",
      "source": [
        "# Step 25 - Certification Project 3"
      ],
      "metadata": {
        "id": "CRa5i8s3UCuL"
      }
    },
    {
      "cell_type": "markdown",
      "source": [
        "Build a financial app that calculates all of the following:<br>\n",
        "<ul>\n",
        "<li>Mortgage payment - given principle, rate, time</li>\n",
        "<li>Retirement account balance at time of retirement</li>\n",
        "<li>Time required for money to double - given the rate</li>\n",
        "<li>Rate of growth - given starting value, time, and ending value</li>\n",
        "</ul>"
      ],
      "metadata": {
        "id": "nngVpvqeT4U7"
      }
    },
    {
      "cell_type": "code",
      "source": [
        "def retirement_balance(deposit, rate, years, compounding_freq=12):\n",
        "    periods = years * compounding_freq\n",
        "    periodic_rate = rate / compounding_freq\n",
        "    return deposit * (((1 + periodic_rate)**periods - 1) / periodic_rate)\n",
        "\n",
        "def calculate_growth_rate(start_value, end_value, time):\n",
        "    growth_factor = end_value / start_value\n",
        "    annual_rate = (growth_factor ** (1 / time)) - 1\n",
        "    return annual_rate\n",
        "\n",
        "# Retirement Account Balance\n",
        "p = float(input(\"Amount borrowed: \"))\n",
        "deposit =  float(input(\"Monthly deposit: \"))\n",
        "r = float(input(\"Annual interest rate: \"))\n",
        "years = float(input(\"Years until retirement: \"))\n",
        "\n",
        "retirement_bal = retirement_balance(deposit, r, years)\n",
        "print(\"Estimated retirement balance:\", retirement_bal)\n",
        "\n",
        "# Rate of Growth\n",
        "start_value = p\n",
        "end_value = retirement_bal\n",
        "t = years\n",
        "\n",
        "growth_rate = calculate_growth_rate(start_value, end_value, t)\n",
        "print(\"Required annual growth rate:\", growth_rate * 100, \"%\")\n",
        "\n",
        "# Mortgage Payment\n",
        "mult = 1+r/12\n",
        "exp = 12*t\n",
        "top = r/12*mult**exp\n",
        "bot = (mult**exp)-1\n",
        "pmt = top/bot\n",
        "\n",
        "print(\"Monthly payment = $\", pmt)\n",
        "\n",
        "import math\n",
        "\n",
        "def doubling_time(rate):\n",
        "    return math.log(2) / rate  # Formula: ln(2) / rate\n",
        "\n",
        "n = int(input(\"N: \"))\n",
        "\n",
        "a_annual = p*(1+r)**t\n",
        "a_n_times = p*(1+r/n)**(n*t)\n",
        "a_continuous = p*math.e**(r*t)\n",
        "\n",
        "print(\"Compounded annually, anuity = \", a_annual)\n",
        "print(\"Compounded \", n, \"times per year, anuity = \", a_n_times)\n",
        "print(\"Compounded continuously, anuity = \", a_continuous)\n",
        "\n",
        "doubling_years = doubling_time(r)\n",
        "print(\"Approximate time to double (continuous compounding):\", doubling_years, \"years\")"
      ],
      "metadata": {
        "id": "fa2o--pDT-Sd",
        "colab": {
          "base_uri": "https://localhost:8080/"
        },
        "outputId": "842d652b-25ad-4f72-b1db-bedff8090739"
      },
      "execution_count": null,
      "outputs": [
        {
          "output_type": "stream",
          "name": "stdout",
          "text": [
            "Amount borrowed: 15000\n",
            "Monthly deposit: 150\n",
            "Annual interest rate: 0.15\n",
            "Years until retirement: 30\n",
            "Estimated retirement balance: 1038491.9416280796\n",
            "Required annual growth rate: 15.171156818497078 %\n",
            "Monthly payment = $ 0.012644440215650435\n",
            "N: 4\n",
            "Compounded annually, anuity =  993176.5793517865\n",
            "Compounded  4 times per year, anuity =  1243551.8706809198\n",
            "Compounded continuously, anuity =  1350256.969507827\n",
            "Approximate time to double (continuous compounding): 4.620981203732969 years\n"
          ]
        }
      ]
    }
  ]
}